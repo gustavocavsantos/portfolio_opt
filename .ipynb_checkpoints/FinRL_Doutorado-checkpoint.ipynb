{
 "cells": [
  {
   "cell_type": "markdown",
   "metadata": {
    "colab_type": "text",
    "id": "view-in-github"
   },
   "source": [
    "<a href=\"https://colab.research.google.com/github/AI4Finance-Foundation/FinRL/blob/master/tutorials/1-Introduction/FinRL_PortfolioAllocation_NeurIPS_2020.ipynb\" target=\"_parent\"><img src=\"https://colab.research.google.com/assets/colab-badge.svg\" alt=\"Open In Colab\"/></a>"
   ]
  },
  {
   "cell_type": "markdown",
   "metadata": {
    "id": "Yv3IDvrobU37"
   },
   "source": [
    "# Deep Reinforcement Learning for Stock Trading from Scratch: Portfolio Allocation\n",
    "\n",
    "Tutorials to use OpenAI DRL to perform portfolio allocation in one Jupyter Notebook | Presented at NeurIPS 2020: Deep RL Workshop\n",
    "\n",
    "* This blog is based on our paper: FinRL: A Deep Reinforcement Learning Library for Automated Stock Trading in Quantitative Finance, presented at NeurIPS 2020: Deep RL Workshop.\n",
    "* Check out medium blog for detailed explanations: \n",
    "* Please report any issues to our Github: https://github.com/AI4Finance-Foundation/FinRL/issues\n",
    "* **Pytorch Version** \n",
    "\n"
   ]
  },
  {
   "cell_type": "markdown",
   "metadata": {
    "id": "4kHCfEiTA80V"
   },
   "source": [
    "# Content"
   ]
  },
  {
   "cell_type": "markdown",
   "metadata": {
    "id": "vUmLTmoQA7_w"
   },
   "source": [
    "* [1. Problem Definition](#0)\n",
    "* [2. Getting Started - Load Python packages](#1)\n",
    "    * [2.1. Install Packages](#1.1)    \n",
    "    * [2.2. Check Additional Packages](#1.2)\n",
    "    * [2.3. Import Packages](#1.3)\n",
    "    * [2.4. Create Folders](#1.4)\n",
    "* [3. Download Data](#2)\n",
    "* [4. Preprocess Data](#3)        \n",
    "    * [4.1. Technical Indicators](#3.1)\n",
    "    * [4.2. Perform Feature Engineering](#3.2)\n",
    "* [5.Build Environment](#4)  \n",
    "    * [5.1. Training & Trade Data Split](#4.1)\n",
    "    * [5.2. User-defined Environment](#4.2)   \n",
    "    * [5.3. Initialize Environment](#4.3)    \n",
    "* [6.Implement DRL Algorithms](#5)  \n",
    "* [7.Backtesting Performance](#6)  \n",
    "    * [7.1. BackTestStats](#6.1)\n",
    "    * [7.2. BackTestPlot](#6.2)   \n",
    "    * [7.3. Baseline Stats](#6.3)   \n",
    "    * [7.3. Compare to Stock Market Index](#6.4)             "
   ]
  },
  {
   "cell_type": "markdown",
   "metadata": {
    "id": "12v1i0jVkg48"
   },
   "source": [
    "<a id='0'></a>\n",
    "# Part 1. Problem Definition"
   ]
  },
  {
   "cell_type": "markdown",
   "metadata": {
    "id": "L63HKnWvkirx"
   },
   "source": [
    "This problem is to design an automated trading solution for portfolio alloacation. We model the stock trading process as a Markov Decision Process (MDP). We then formulate our trading goal as a maximization problem.\n",
    "\n",
    "The algorithm is trained using Deep Reinforcement Learning (DRL) algorithms and the components of the reinforcement learning environment are:\n",
    "\n",
    "\n",
    "* Action: The action space describes the allowed actions that the agent interacts with the\n",
    "environment. Normally, a ∈ A represents the weight of a stock in the porfolio: a ∈ (-1,1). Assume our stock pool includes N stocks, we can use a list [a<sub>1</sub>, a<sub>2</sub>, ... , a<sub>N</sub>] to determine the weight for each stock in the porfotlio, where a<sub>i</sub> ∈ (-1,1), a<sub>1</sub>+ a<sub>2</sub>+...+a<sub>N</sub>=1. For example, \"The weight of AAPL in the portfolio is 10%.\" is [0.1 , ...].\n",
    "\n",
    "* Reward function: r(s, a, s′) is the incentive mechanism for an agent to learn a better action. The change of the portfolio value when action a is taken at state s and arriving at new state s',  i.e., r(s, a, s′) = v′ − v, where v′ and v represent the portfolio\n",
    "values at state s′ and s, respectively\n",
    "\n",
    "* State: The state space describes the observations that the agent receives from the environment. Just as a human trader needs to analyze various information before executing a trade, so\n",
    "our trading agent observes many different features to better learn in an interactive environment.\n",
    "\n",
    "* Environment: Dow 30 consituents\n",
    "\n",
    "\n",
    "The data of the single stock that we will be using for this case study is obtained from Yahoo Finance API. The data contains Open-High-Low-Close price and volume.\n"
   ]
  },
  {
   "cell_type": "markdown",
   "metadata": {
    "id": "g_emqQCCklVt"
   },
   "source": [
    "<a id='1'></a>\n",
    "# Part 2. Getting Started- Load Python Packages"
   ]
  },
  {
   "cell_type": "markdown",
   "metadata": {
    "id": "cVCcCalAknGn"
   },
   "source": [
    "<a id='1.1'></a>\n",
    "## 2.1. Install all the packages through FinRL library\n"
   ]
  },
  {
   "cell_type": "code",
   "execution_count": 1,
   "metadata": {
    "colab": {
     "base_uri": "https://localhost:8080/"
    },
    "id": "pT8a0fvhA_TW",
    "outputId": "1eba9a59-ff73-47c1-bfd9-d32ea43c0a5c",
    "pycharm": {
     "is_executing": true
    }
   },
   "outputs": [],
   "source": [
    "## install finrl library\n",
    "#%pip install git+https://github.com/AI4Finance-LLC/FinRL-Library.git"
   ]
  },
  {
   "cell_type": "markdown",
   "metadata": {
    "id": "h2568cp5bU38"
   },
   "source": [
    "\n",
    "<a id='1.2'></a>\n",
    "## 2.2. Check if the additional packages needed are present, if not install them. \n",
    "* Yahoo Finance API\n",
    "* pandas\n",
    "* numpy\n",
    "* matplotlib\n",
    "* stockstats\n",
    "* OpenAI gym\n",
    "* stable-baselines\n",
    "* tensorflow\n",
    "* pyfolio"
   ]
  },
  {
   "cell_type": "markdown",
   "metadata": {
    "id": "bNmvYN9YbU4B"
   },
   "source": [
    "<a id='1.3'></a>\n",
    "## 2.3. Import Packages"
   ]
  },
  {
   "cell_type": "code",
   "execution_count": 2,
   "metadata": {
    "colab": {
     "base_uri": "https://localhost:8080/"
    },
    "id": "ntfTb0e2bU4C",
    "outputId": "2267190b-fe54-43a3-8d03-893d02a20f39",
    "pycharm": {
     "is_executing": true
    }
   },
   "outputs": [
    {
     "name": "stderr",
     "output_type": "stream",
     "text": [
      "/home/gustavo/anaconda3/envs/finrl/lib/python3.7/site-packages/pyfolio/pos.py:27: UserWarning: Module \"zipline.assets\" not found; multipliers will not be applied to position notionals.\n",
      "  'Module \"zipline.assets\" not found; multipliers will not be applied'\n"
     ]
    }
   ],
   "source": [
    "from utils import process_future_data, dates_intersection, add_covariance, StockPortfolioEnv\n",
    "import pandas as pd\n",
    "import numpy as np\n",
    "import matplotlib\n",
    "import matplotlib.pyplot as plt\n",
    "matplotlib.use('Agg')\n",
    "%matplotlib inline\n",
    "import datetime\n",
    "\n",
    "from finrl import config\n",
    "from finrl import config_tickers\n",
    "from finrl.finrl_meta.preprocessor.yahoodownloader import YahooDownloader\n",
    "from finrl.finrl_meta.preprocessor.preprocessors import FeatureEngineer, data_split\n",
    "from finrl.finrl_meta.env_portfolio_allocation.env_portfolio import StockPortfolioEnv\n",
    "from finrl.agents.stablebaselines3.models import DRLAgent\n",
    "from finrl.plot import backtest_stats, backtest_plot, get_daily_return, get_baseline,convert_daily_return_to_pyfolio_ts\n",
    "from finrl.finrl_meta.data_processor import DataProcessor\n",
    "from finrl.finrl_meta.data_processors.processor_yahoofinance import YahooFinanceProcessor\n",
    "import sys\n",
    "sys.path.append(\"../FinRL-Library\")"
   ]
  },
  {
   "cell_type": "markdown",
   "metadata": {
    "id": "OlIS2abxkwan"
   },
   "source": [
    "<a id='1.4'></a>\n",
    "## 2.4. Create Folders"
   ]
  },
  {
   "cell_type": "code",
   "execution_count": 3,
   "metadata": {
    "id": "B8bBq7nsBCfF",
    "pycharm": {
     "is_executing": true
    }
   },
   "outputs": [],
   "source": [
    "import os\n",
    "if not os.path.exists(\"./\" + config.DATA_SAVE_DIR):\n",
    "    os.makedirs(\"./\" + config.DATA_SAVE_DIR)\n",
    "if not os.path.exists(\"./\" + config.TRAINED_MODEL_DIR):\n",
    "    os.makedirs(\"./\" + config.TRAINED_MODEL_DIR)\n",
    "if not os.path.exists(\"./\" + config.TENSORBOARD_LOG_DIR):\n",
    "    os.makedirs(\"./\" + config.TENSORBOARD_LOG_DIR)\n",
    "if not os.path.exists(\"./\" + config.RESULTS_DIR):\n",
    "    os.makedirs(\"./\" + config.RESULTS_DIR)"
   ]
  },
  {
   "cell_type": "markdown",
   "metadata": {
    "id": "slBria_QbU4F"
   },
   "source": [
    "<a id='2'></a>\n",
    "# Part 3. Download Data\n",
    "Yahoo Finance is a website that provides stock data, financial news, financial reports, etc. All the data provided by Yahoo Finance is free.\n",
    "* FinRL uses a class **YahooDownloader** to fetch data from Yahoo Finance API\n",
    "* Call Limit: Using the Public API (without authentication), you are limited to 2,000 requests per hour per IP (or up to a total of 48,000 requests a day).\n"
   ]
  },
  {
   "cell_type": "code",
   "execution_count": 4,
   "metadata": {},
   "outputs": [],
   "source": [
    "arrz = process_future_data('data/ARROZ.csv')\n",
    "bg   = process_future_data('data/BOI_GORDO.csv')\n",
    "cf   = process_future_data('data/CAFE.csv')\n",
    "eth  = process_future_data('data/ETANOL.csv')\n",
    "mil  = process_future_data('data/MILHO.csv')\n",
    "mf   = process_future_data('data/MINERIO_FERRO.csv')\n",
    "gold = process_future_data('data/OURO.csv')\n",
    "petr = process_future_data('data/PETROLEO.csv')\n",
    "soj  = process_future_data('data/SOJA.csv')\n",
    "trg  = process_future_data('data/TRIGO.csv')"
   ]
  },
  {
   "cell_type": "code",
   "execution_count": 5,
   "metadata": {},
   "outputs": [
    {
     "data": {
      "text/html": [
       "<div>\n",
       "<style scoped>\n",
       "    .dataframe tbody tr th:only-of-type {\n",
       "        vertical-align: middle;\n",
       "    }\n",
       "\n",
       "    .dataframe tbody tr th {\n",
       "        vertical-align: top;\n",
       "    }\n",
       "\n",
       "    .dataframe thead th {\n",
       "        text-align: right;\n",
       "    }\n",
       "</style>\n",
       "<table border=\"1\" class=\"dataframe\">\n",
       "  <thead>\n",
       "    <tr style=\"text-align: right;\">\n",
       "      <th></th>\n",
       "      <th>date</th>\n",
       "      <th>open</th>\n",
       "      <th>high</th>\n",
       "      <th>low</th>\n",
       "      <th>close</th>\n",
       "      <th>adjcp</th>\n",
       "      <th>volume</th>\n",
       "      <th>tic</th>\n",
       "      <th>day</th>\n",
       "    </tr>\n",
       "  </thead>\n",
       "  <tbody>\n",
       "    <tr>\n",
       "      <th>0</th>\n",
       "      <td>2000-01-03</td>\n",
       "      <td>5.180</td>\n",
       "      <td>5.250</td>\n",
       "      <td>5.180</td>\n",
       "      <td>5.230</td>\n",
       "      <td>5.230</td>\n",
       "      <td>486.0</td>\n",
       "      <td>ZR</td>\n",
       "      <td>0</td>\n",
       "    </tr>\n",
       "    <tr>\n",
       "      <th>1</th>\n",
       "      <td>2000-01-04</td>\n",
       "      <td>5.250</td>\n",
       "      <td>5.310</td>\n",
       "      <td>5.250</td>\n",
       "      <td>5.270</td>\n",
       "      <td>5.270</td>\n",
       "      <td>836.0</td>\n",
       "      <td>ZR</td>\n",
       "      <td>1</td>\n",
       "    </tr>\n",
       "    <tr>\n",
       "      <th>2</th>\n",
       "      <td>2000-01-05</td>\n",
       "      <td>5.250</td>\n",
       "      <td>5.290</td>\n",
       "      <td>5.250</td>\n",
       "      <td>5.290</td>\n",
       "      <td>5.290</td>\n",
       "      <td>700.0</td>\n",
       "      <td>ZR</td>\n",
       "      <td>2</td>\n",
       "    </tr>\n",
       "    <tr>\n",
       "      <th>3</th>\n",
       "      <td>2000-01-06</td>\n",
       "      <td>5.320</td>\n",
       "      <td>5.390</td>\n",
       "      <td>5.305</td>\n",
       "      <td>5.360</td>\n",
       "      <td>5.360</td>\n",
       "      <td>478.0</td>\n",
       "      <td>ZR</td>\n",
       "      <td>3</td>\n",
       "    </tr>\n",
       "    <tr>\n",
       "      <th>4</th>\n",
       "      <td>2000-01-07</td>\n",
       "      <td>5.300</td>\n",
       "      <td>5.340</td>\n",
       "      <td>5.300</td>\n",
       "      <td>5.340</td>\n",
       "      <td>5.340</td>\n",
       "      <td>714.0</td>\n",
       "      <td>ZR</td>\n",
       "      <td>4</td>\n",
       "    </tr>\n",
       "    <tr>\n",
       "      <th>...</th>\n",
       "      <td>...</td>\n",
       "      <td>...</td>\n",
       "      <td>...</td>\n",
       "      <td>...</td>\n",
       "      <td>...</td>\n",
       "      <td>...</td>\n",
       "      <td>...</td>\n",
       "      <td>...</td>\n",
       "      <td>...</td>\n",
       "    </tr>\n",
       "    <tr>\n",
       "      <th>5737</th>\n",
       "      <td>2022-10-21</td>\n",
       "      <td>16.815</td>\n",
       "      <td>16.870</td>\n",
       "      <td>16.575</td>\n",
       "      <td>16.680</td>\n",
       "      <td>16.680</td>\n",
       "      <td>2003.0</td>\n",
       "      <td>ZR</td>\n",
       "      <td>4</td>\n",
       "    </tr>\n",
       "    <tr>\n",
       "      <th>5738</th>\n",
       "      <td>2022-10-24</td>\n",
       "      <td>16.680</td>\n",
       "      <td>16.775</td>\n",
       "      <td>16.560</td>\n",
       "      <td>16.575</td>\n",
       "      <td>16.575</td>\n",
       "      <td>2512.0</td>\n",
       "      <td>ZR</td>\n",
       "      <td>0</td>\n",
       "    </tr>\n",
       "    <tr>\n",
       "      <th>5739</th>\n",
       "      <td>2022-10-25</td>\n",
       "      <td>16.560</td>\n",
       "      <td>16.625</td>\n",
       "      <td>16.530</td>\n",
       "      <td>16.530</td>\n",
       "      <td>16.530</td>\n",
       "      <td>1459.0</td>\n",
       "      <td>ZR</td>\n",
       "      <td>1</td>\n",
       "    </tr>\n",
       "    <tr>\n",
       "      <th>5740</th>\n",
       "      <td>2022-10-26</td>\n",
       "      <td>16.545</td>\n",
       "      <td>16.550</td>\n",
       "      <td>16.335</td>\n",
       "      <td>16.370</td>\n",
       "      <td>16.370</td>\n",
       "      <td>1921.0</td>\n",
       "      <td>ZR</td>\n",
       "      <td>2</td>\n",
       "    </tr>\n",
       "    <tr>\n",
       "      <th>5741</th>\n",
       "      <td>2022-10-27</td>\n",
       "      <td>16.395</td>\n",
       "      <td>16.455</td>\n",
       "      <td>16.280</td>\n",
       "      <td>16.345</td>\n",
       "      <td>16.345</td>\n",
       "      <td>1630.0</td>\n",
       "      <td>ZR</td>\n",
       "      <td>3</td>\n",
       "    </tr>\n",
       "  </tbody>\n",
       "</table>\n",
       "<p>5742 rows × 9 columns</p>\n",
       "</div>"
      ],
      "text/plain": [
       "           date    open    high     low   close   adjcp  volume tic  day\n",
       "0    2000-01-03   5.180   5.250   5.180   5.230   5.230   486.0  ZR    0\n",
       "1    2000-01-04   5.250   5.310   5.250   5.270   5.270   836.0  ZR    1\n",
       "2    2000-01-05   5.250   5.290   5.250   5.290   5.290   700.0  ZR    2\n",
       "3    2000-01-06   5.320   5.390   5.305   5.360   5.360   478.0  ZR    3\n",
       "4    2000-01-07   5.300   5.340   5.300   5.340   5.340   714.0  ZR    4\n",
       "...         ...     ...     ...     ...     ...     ...     ...  ..  ...\n",
       "5737 2022-10-21  16.815  16.870  16.575  16.680  16.680  2003.0  ZR    4\n",
       "5738 2022-10-24  16.680  16.775  16.560  16.575  16.575  2512.0  ZR    0\n",
       "5739 2022-10-25  16.560  16.625  16.530  16.530  16.530  1459.0  ZR    1\n",
       "5740 2022-10-26  16.545  16.550  16.335  16.370  16.370  1921.0  ZR    2\n",
       "5741 2022-10-27  16.395  16.455  16.280  16.345  16.345  1630.0  ZR    3\n",
       "\n",
       "[5742 rows x 9 columns]"
      ]
     },
     "execution_count": 5,
     "metadata": {},
     "output_type": "execute_result"
    }
   ],
   "source": [
    "arrz"
   ]
  },
  {
   "cell_type": "code",
   "execution_count": 6,
   "metadata": {},
   "outputs": [],
   "source": [
    "cmds_f =pd.concat([arrz,bg,cf,eth,mil,mf,gold,petr,soj,trg],axis=0) "
   ]
  },
  {
   "cell_type": "code",
   "execution_count": 7,
   "metadata": {},
   "outputs": [
    {
     "data": {
      "text/plain": [
       "['ZR', 'LE', 'KC', 'FL', 'ZC', 'TR', 'GC', 'CB', 'ZS', 'ZW']"
      ]
     },
     "execution_count": 7,
     "metadata": {},
     "output_type": "execute_result"
    }
   ],
   "source": [
    "cmds_f['tic'].unique().tolist()"
   ]
  },
  {
   "cell_type": "code",
   "execution_count": 8,
   "metadata": {},
   "outputs": [],
   "source": [
    "cmds_f_l = cmds_f[\"tic\"].unique().tolist()\n",
    "stocks_br  = [\"PETR4.SA\", \"VALE3.SA\", \"ITUB4.SA\", \"MGLU3.SA\", \"BBAS3.SA\", \"BBDC4.SA\",\"B3SA3.SA\", \"PETR3.SA\", \"RENT3.SA\", \"ELET3.SA\" ]\n",
    "stocks_usa = [\"META\", \"AAPL\", \"AMZN\", \"F\", \"T\", \"BAC\", \"GOOGL\", \"MSFT\", \"INTC\", \"CMCSA\"]\n",
    "stocks_eur = [\"iSP.MI\", \"ENEL.MI\", \"SAN.MC\", \"INGA.AS\", \"ENI.MI\", \"BBVA.MC\", \"IBE.MC\", \"CS.PA\", \"STLA.MI\",\"DTE.DE\"]\n",
    "stocks_chn = [\"601899.SS\",\"600010.SS\",\"600795.SS\", \"603993.SS\", \"600157.SS\", \"601288.SS\", \"600050.SS\", \"601398.SS\", \"600537.SS\",\"600777.SS\"]"
   ]
  },
  {
   "cell_type": "code",
   "execution_count": 9,
   "metadata": {},
   "outputs": [],
   "source": [
    "ativos = list(set().union(stocks_br,stocks_usa,stocks_eur,stocks_chn))"
   ]
  },
  {
   "cell_type": "code",
   "execution_count": 10,
   "metadata": {},
   "outputs": [
    {
     "data": {
      "text/plain": [
       "40"
      ]
     },
     "execution_count": 10,
     "metadata": {},
     "output_type": "execute_result"
    }
   ],
   "source": [
    "len(ativos)"
   ]
  },
  {
   "cell_type": "code",
   "execution_count": 11,
   "metadata": {
    "colab": {
     "base_uri": "https://localhost:8080/"
    },
    "id": "CPsuy6d9yRPp",
    "outputId": "5f9be2b1-c3f9-4205-a753-a81a1d793d17",
    "pycharm": {
     "is_executing": true
    }
   },
   "outputs": [],
   "source": [
    "#print(config_tickers.DOW_30_TICKER)"
   ]
  },
  {
   "cell_type": "code",
   "execution_count": 12,
   "metadata": {
    "colab": {
     "base_uri": "https://localhost:8080/"
    },
    "id": "WEwzMkFHbU4G",
    "outputId": "8db19feb-cf14-418f-d6d4-99aeb0bfa6ef",
    "pycharm": {
     "is_executing": true
    }
   },
   "outputs": [
    {
     "name": "stdout",
     "output_type": "stream",
     "text": [
      "[*********************100%***********************]  1 of 1 completed\n",
      "[*********************100%***********************]  1 of 1 completed\n",
      "[*********************100%***********************]  1 of 1 completed\n",
      "[*********************100%***********************]  1 of 1 completed\n",
      "[*********************100%***********************]  1 of 1 completed\n",
      "[*********************100%***********************]  1 of 1 completed\n",
      "[*********************100%***********************]  1 of 1 completed\n",
      "[*********************100%***********************]  1 of 1 completed\n",
      "[*********************100%***********************]  1 of 1 completed\n",
      "[*********************100%***********************]  1 of 1 completed\n",
      "[*********************100%***********************]  1 of 1 completed\n",
      "[*********************100%***********************]  1 of 1 completed\n",
      "[*********************100%***********************]  1 of 1 completed\n",
      "[*********************100%***********************]  1 of 1 completed\n",
      "[*********************100%***********************]  1 of 1 completed\n",
      "[*********************100%***********************]  1 of 1 completed\n",
      "[*********************100%***********************]  1 of 1 completed\n",
      "[*********************100%***********************]  1 of 1 completed\n",
      "[*********************100%***********************]  1 of 1 completed\n",
      "[*********************100%***********************]  1 of 1 completed\n",
      "[*********************100%***********************]  1 of 1 completed\n",
      "[*********************100%***********************]  1 of 1 completed\n",
      "[*********************100%***********************]  1 of 1 completed\n",
      "[*********************100%***********************]  1 of 1 completed\n",
      "[*********************100%***********************]  1 of 1 completed\n",
      "[*********************100%***********************]  1 of 1 completed\n",
      "[*********************100%***********************]  1 of 1 completed\n",
      "[*********************100%***********************]  1 of 1 completed\n",
      "[*********************100%***********************]  1 of 1 completed\n",
      "[*********************100%***********************]  1 of 1 completed\n",
      "[*********************100%***********************]  1 of 1 completed\n",
      "[*********************100%***********************]  1 of 1 completed\n",
      "[*********************100%***********************]  1 of 1 completed\n",
      "[*********************100%***********************]  1 of 1 completed\n",
      "[*********************100%***********************]  1 of 1 completed\n",
      "[*********************100%***********************]  1 of 1 completed\n",
      "[*********************100%***********************]  1 of 1 completed\n",
      "[*********************100%***********************]  1 of 1 completed\n",
      "[*********************100%***********************]  1 of 1 completed\n",
      "[*********************100%***********************]  1 of 1 completed\n",
      "Shape of DataFrame:  (175832, 9)\n"
     ]
    }
   ],
   "source": [
    "dp = YahooFinanceProcessor()\n",
    "df = dp.download_data(start_date = '2004-01-01',\n",
    "                     end_date = '2022-11-07',\n",
    "                     ticker_list = ativos, time_interval='1D')\n",
    "ativos = ativos = list(set().union(stocks_br,stocks_usa,stocks_eur,stocks_chn,cmds_f_l))"
   ]
  },
  {
   "cell_type": "code",
   "execution_count": 13,
   "metadata": {},
   "outputs": [],
   "source": [
    "df = pd.concat([df,cmds_f],axis=0)\n",
    "df['date']= pd.to_datetime(df['date'])\n",
    "df = df.sort_values(by='date')"
   ]
  },
  {
   "cell_type": "markdown",
   "metadata": {
    "id": "V9UwKwzRbU4l"
   },
   "source": [
    "# Part 4: Preprocess Data\n",
    "Data preprocessing is a crucial step for training a high quality machine learning model. We need to check for missing data and do feature engineering in order to convert the data into a model-ready state.\n",
    "* Add technical indicators. In practical trading, various information needs to be taken into account, for example the historical stock prices, current holding shares, technical indicators, etc. In this article, we demonstrate two trend-following technical indicators: MACD and RSI.\n",
    "* Add turbulence index. Risk-aversion reflects whether an investor will choose to preserve the capital. It also influences one's trading strategy when facing different market volatility level. To control the risk in a worst-case scenario, such as financial crisis of 2007–2008, FinRL employs the financial turbulence index that measures extreme asset price fluctuation."
   ]
  },
  {
   "cell_type": "code",
   "execution_count": 15,
   "metadata": {},
   "outputs": [
    {
     "name": "stdout",
     "output_type": "stream",
     "text": [
      "(228365, 9)\n",
      "(112500, 9)\n"
     ]
    }
   ],
   "source": [
    "dates_f3 = dates_intersection(df)\n",
    "print(df.shape)\n",
    "df=df[df['date'].isin(dates_f3)]\n",
    "print(df.shape)"
   ]
  },
  {
   "cell_type": "code",
   "execution_count": 16,
   "metadata": {
    "colab": {
     "base_uri": "https://localhost:8080/"
    },
    "id": "P5h8RbeBHMDQ",
    "outputId": "dfa222bf-1363-4354-f825-28d86f50bbff",
    "pycharm": {
     "is_executing": true
    }
   },
   "outputs": [
    {
     "name": "stdout",
     "output_type": "stream",
     "text": [
      "Successfully added technical indicators\n"
     ]
    }
   ],
   "source": [
    "fe = FeatureEngineer(\n",
    "                    use_technical_indicator=True,\n",
    "                    use_turbulence=False,\n",
    "                    user_defined_feature = False)\n",
    "\n",
    "df = fe.preprocess_data(df)"
   ]
  },
  {
   "cell_type": "code",
   "execution_count": 19,
   "metadata": {},
   "outputs": [
    {
     "data": {
      "text/html": [
       "<div>\n",
       "<style scoped>\n",
       "    .dataframe tbody tr th:only-of-type {\n",
       "        vertical-align: middle;\n",
       "    }\n",
       "\n",
       "    .dataframe tbody tr th {\n",
       "        vertical-align: top;\n",
       "    }\n",
       "\n",
       "    .dataframe thead th {\n",
       "        text-align: right;\n",
       "    }\n",
       "</style>\n",
       "<table border=\"1\" class=\"dataframe\">\n",
       "  <thead>\n",
       "    <tr style=\"text-align: right;\">\n",
       "      <th></th>\n",
       "      <th>date</th>\n",
       "      <th>open</th>\n",
       "      <th>high</th>\n",
       "      <th>low</th>\n",
       "      <th>close</th>\n",
       "      <th>adjcp</th>\n",
       "      <th>volume</th>\n",
       "      <th>tic</th>\n",
       "      <th>day</th>\n",
       "      <th>macd</th>\n",
       "      <th>boll_ub</th>\n",
       "      <th>boll_lb</th>\n",
       "      <th>rsi_30</th>\n",
       "      <th>cci_30</th>\n",
       "      <th>dx_30</th>\n",
       "      <th>close_30_sma</th>\n",
       "      <th>close_60_sma</th>\n",
       "    </tr>\n",
       "  </thead>\n",
       "  <tbody>\n",
       "    <tr>\n",
       "      <th>0</th>\n",
       "      <td>2012-10-09</td>\n",
       "      <td>1.792857</td>\n",
       "      <td>1.864285</td>\n",
       "      <td>1.785714</td>\n",
       "      <td>1.853571</td>\n",
       "      <td>1.812031</td>\n",
       "      <td>162731223.0</td>\n",
       "      <td>600010.SS</td>\n",
       "      <td>1</td>\n",
       "      <td>0.000000</td>\n",
       "      <td>1.874080</td>\n",
       "      <td>1.843776</td>\n",
       "      <td>100.000000</td>\n",
       "      <td>66.666667</td>\n",
       "      <td>100.000000</td>\n",
       "      <td>1.853571</td>\n",
       "      <td>1.853571</td>\n",
       "    </tr>\n",
       "    <tr>\n",
       "      <th>2250</th>\n",
       "      <td>2012-10-09</td>\n",
       "      <td>3.630000</td>\n",
       "      <td>3.700000</td>\n",
       "      <td>3.630000</td>\n",
       "      <td>3.680000</td>\n",
       "      <td>3.209576</td>\n",
       "      <td>50801915.0</td>\n",
       "      <td>600050.SS</td>\n",
       "      <td>1</td>\n",
       "      <td>0.000000</td>\n",
       "      <td>1.874080</td>\n",
       "      <td>1.843776</td>\n",
       "      <td>100.000000</td>\n",
       "      <td>66.666667</td>\n",
       "      <td>100.000000</td>\n",
       "      <td>3.680000</td>\n",
       "      <td>3.680000</td>\n",
       "    </tr>\n",
       "    <tr>\n",
       "      <th>4500</th>\n",
       "      <td>2012-10-09</td>\n",
       "      <td>3.357692</td>\n",
       "      <td>3.492307</td>\n",
       "      <td>3.350000</td>\n",
       "      <td>3.442307</td>\n",
       "      <td>3.148193</td>\n",
       "      <td>93670189.0</td>\n",
       "      <td>600157.SS</td>\n",
       "      <td>1</td>\n",
       "      <td>0.000000</td>\n",
       "      <td>1.874080</td>\n",
       "      <td>1.843776</td>\n",
       "      <td>100.000000</td>\n",
       "      <td>66.666667</td>\n",
       "      <td>100.000000</td>\n",
       "      <td>3.442307</td>\n",
       "      <td>3.442307</td>\n",
       "    </tr>\n",
       "    <tr>\n",
       "      <th>6750</th>\n",
       "      <td>2012-10-09</td>\n",
       "      <td>4.163636</td>\n",
       "      <td>4.404545</td>\n",
       "      <td>4.154545</td>\n",
       "      <td>4.354545</td>\n",
       "      <td>4.088676</td>\n",
       "      <td>16474447.0</td>\n",
       "      <td>600537.SS</td>\n",
       "      <td>1</td>\n",
       "      <td>0.000000</td>\n",
       "      <td>1.874080</td>\n",
       "      <td>1.843776</td>\n",
       "      <td>100.000000</td>\n",
       "      <td>66.666667</td>\n",
       "      <td>100.000000</td>\n",
       "      <td>4.354545</td>\n",
       "      <td>4.354545</td>\n",
       "    </tr>\n",
       "    <tr>\n",
       "      <th>9000</th>\n",
       "      <td>2012-10-09</td>\n",
       "      <td>1.228947</td>\n",
       "      <td>1.302631</td>\n",
       "      <td>1.228947</td>\n",
       "      <td>1.297368</td>\n",
       "      <td>1.297368</td>\n",
       "      <td>43570465.0</td>\n",
       "      <td>600777.SS</td>\n",
       "      <td>1</td>\n",
       "      <td>0.000000</td>\n",
       "      <td>1.874080</td>\n",
       "      <td>1.843776</td>\n",
       "      <td>100.000000</td>\n",
       "      <td>66.666667</td>\n",
       "      <td>100.000000</td>\n",
       "      <td>1.297368</td>\n",
       "      <td>1.297368</td>\n",
       "    </tr>\n",
       "    <tr>\n",
       "      <th>...</th>\n",
       "      <td>...</td>\n",
       "      <td>...</td>\n",
       "      <td>...</td>\n",
       "      <td>...</td>\n",
       "      <td>...</td>\n",
       "      <td>...</td>\n",
       "      <td>...</td>\n",
       "      <td>...</td>\n",
       "      <td>...</td>\n",
       "      <td>...</td>\n",
       "      <td>...</td>\n",
       "      <td>...</td>\n",
       "      <td>...</td>\n",
       "      <td>...</td>\n",
       "      <td>...</td>\n",
       "      <td>...</td>\n",
       "      <td>...</td>\n",
       "    </tr>\n",
       "    <tr>\n",
       "      <th>103499</th>\n",
       "      <td>2022-10-27</td>\n",
       "      <td>685.000000</td>\n",
       "      <td>689.250000</td>\n",
       "      <td>679.250000</td>\n",
       "      <td>682.250000</td>\n",
       "      <td>682.250000</td>\n",
       "      <td>175423.0</td>\n",
       "      <td>ZC</td>\n",
       "      <td>3</td>\n",
       "      <td>4.532375</td>\n",
       "      <td>700.291508</td>\n",
       "      <td>663.808492</td>\n",
       "      <td>52.666919</td>\n",
       "      <td>18.526497</td>\n",
       "      <td>8.734012</td>\n",
       "      <td>681.866667</td>\n",
       "      <td>654.075000</td>\n",
       "    </tr>\n",
       "    <tr>\n",
       "      <th>105749</th>\n",
       "      <td>2022-10-27</td>\n",
       "      <td>16.395000</td>\n",
       "      <td>16.455000</td>\n",
       "      <td>16.280000</td>\n",
       "      <td>16.345000</td>\n",
       "      <td>16.345000</td>\n",
       "      <td>1630.0</td>\n",
       "      <td>ZR</td>\n",
       "      <td>3</td>\n",
       "      <td>-0.244069</td>\n",
       "      <td>17.606281</td>\n",
       "      <td>16.153219</td>\n",
       "      <td>40.886366</td>\n",
       "      <td>-126.424201</td>\n",
       "      <td>38.764618</td>\n",
       "      <td>17.125500</td>\n",
       "      <td>17.168750</td>\n",
       "    </tr>\n",
       "    <tr>\n",
       "      <th>107999</th>\n",
       "      <td>2022-10-27</td>\n",
       "      <td>1392.750000</td>\n",
       "      <td>1405.000000</td>\n",
       "      <td>1389.000000</td>\n",
       "      <td>1393.500000</td>\n",
       "      <td>1393.500000</td>\n",
       "      <td>230756.0</td>\n",
       "      <td>ZS</td>\n",
       "      <td>3</td>\n",
       "      <td>-8.795626</td>\n",
       "      <td>1438.890118</td>\n",
       "      <td>1352.134882</td>\n",
       "      <td>47.259055</td>\n",
       "      <td>-41.383004</td>\n",
       "      <td>2.350999</td>\n",
       "      <td>1411.408333</td>\n",
       "      <td>1413.145833</td>\n",
       "    </tr>\n",
       "    <tr>\n",
       "      <th>110249</th>\n",
       "      <td>2022-10-27</td>\n",
       "      <td>843.500000</td>\n",
       "      <td>858.000000</td>\n",
       "      <td>833.500000</td>\n",
       "      <td>838.500000</td>\n",
       "      <td>838.500000</td>\n",
       "      <td>68920.0</td>\n",
       "      <td>ZW</td>\n",
       "      <td>3</td>\n",
       "      <td>-4.442215</td>\n",
       "      <td>934.579452</td>\n",
       "      <td>809.120548</td>\n",
       "      <td>47.606769</td>\n",
       "      <td>-68.830991</td>\n",
       "      <td>2.925366</td>\n",
       "      <td>867.266667</td>\n",
       "      <td>832.091667</td>\n",
       "    </tr>\n",
       "    <tr>\n",
       "      <th>112499</th>\n",
       "      <td>2022-10-27</td>\n",
       "      <td>1.862400</td>\n",
       "      <td>1.905800</td>\n",
       "      <td>1.837800</td>\n",
       "      <td>1.905800</td>\n",
       "      <td>1.842345</td>\n",
       "      <td>138276464.0</td>\n",
       "      <td>iSP.MI</td>\n",
       "      <td>3</td>\n",
       "      <td>0.024778</td>\n",
       "      <td>1.919586</td>\n",
       "      <td>1.627994</td>\n",
       "      <td>56.645425</td>\n",
       "      <td>85.516314</td>\n",
       "      <td>22.678066</td>\n",
       "      <td>1.799027</td>\n",
       "      <td>1.777303</td>\n",
       "    </tr>\n",
       "  </tbody>\n",
       "</table>\n",
       "<p>112500 rows × 17 columns</p>\n",
       "</div>"
      ],
      "text/plain": [
       "             date         open         high          low        close  \\\n",
       "0      2012-10-09     1.792857     1.864285     1.785714     1.853571   \n",
       "2250   2012-10-09     3.630000     3.700000     3.630000     3.680000   \n",
       "4500   2012-10-09     3.357692     3.492307     3.350000     3.442307   \n",
       "6750   2012-10-09     4.163636     4.404545     4.154545     4.354545   \n",
       "9000   2012-10-09     1.228947     1.302631     1.228947     1.297368   \n",
       "...           ...          ...          ...          ...          ...   \n",
       "103499 2022-10-27   685.000000   689.250000   679.250000   682.250000   \n",
       "105749 2022-10-27    16.395000    16.455000    16.280000    16.345000   \n",
       "107999 2022-10-27  1392.750000  1405.000000  1389.000000  1393.500000   \n",
       "110249 2022-10-27   843.500000   858.000000   833.500000   838.500000   \n",
       "112499 2022-10-27     1.862400     1.905800     1.837800     1.905800   \n",
       "\n",
       "              adjcp       volume        tic  day      macd      boll_ub  \\\n",
       "0          1.812031  162731223.0  600010.SS    1  0.000000     1.874080   \n",
       "2250       3.209576   50801915.0  600050.SS    1  0.000000     1.874080   \n",
       "4500       3.148193   93670189.0  600157.SS    1  0.000000     1.874080   \n",
       "6750       4.088676   16474447.0  600537.SS    1  0.000000     1.874080   \n",
       "9000       1.297368   43570465.0  600777.SS    1  0.000000     1.874080   \n",
       "...             ...          ...        ...  ...       ...          ...   \n",
       "103499   682.250000     175423.0         ZC    3  4.532375   700.291508   \n",
       "105749    16.345000       1630.0         ZR    3 -0.244069    17.606281   \n",
       "107999  1393.500000     230756.0         ZS    3 -8.795626  1438.890118   \n",
       "110249   838.500000      68920.0         ZW    3 -4.442215   934.579452   \n",
       "112499     1.842345  138276464.0     iSP.MI    3  0.024778     1.919586   \n",
       "\n",
       "            boll_lb      rsi_30      cci_30       dx_30  close_30_sma  \\\n",
       "0          1.843776  100.000000   66.666667  100.000000      1.853571   \n",
       "2250       1.843776  100.000000   66.666667  100.000000      3.680000   \n",
       "4500       1.843776  100.000000   66.666667  100.000000      3.442307   \n",
       "6750       1.843776  100.000000   66.666667  100.000000      4.354545   \n",
       "9000       1.843776  100.000000   66.666667  100.000000      1.297368   \n",
       "...             ...         ...         ...         ...           ...   \n",
       "103499   663.808492   52.666919   18.526497    8.734012    681.866667   \n",
       "105749    16.153219   40.886366 -126.424201   38.764618     17.125500   \n",
       "107999  1352.134882   47.259055  -41.383004    2.350999   1411.408333   \n",
       "110249   809.120548   47.606769  -68.830991    2.925366    867.266667   \n",
       "112499     1.627994   56.645425   85.516314   22.678066      1.799027   \n",
       "\n",
       "        close_60_sma  \n",
       "0           1.853571  \n",
       "2250        3.680000  \n",
       "4500        3.442307  \n",
       "6750        4.354545  \n",
       "9000        1.297368  \n",
       "...              ...  \n",
       "103499    654.075000  \n",
       "105749     17.168750  \n",
       "107999   1413.145833  \n",
       "110249    832.091667  \n",
       "112499      1.777303  \n",
       "\n",
       "[112500 rows x 17 columns]"
      ]
     },
     "execution_count": 19,
     "metadata": {},
     "output_type": "execute_result"
    }
   ],
   "source": [
    "df"
   ]
  },
  {
   "cell_type": "code",
   "execution_count": 20,
   "metadata": {},
   "outputs": [
    {
     "data": {
      "text/plain": [
       "600010.SS    2250\n",
       "PETR3.SA     2250\n",
       "GOOGL        2250\n",
       "IBE.MC       2250\n",
       "INGA.AS      2250\n",
       "INTC         2250\n",
       "ITUB4.SA     2250\n",
       "KC           2250\n",
       "LE           2250\n",
       "META         2250\n",
       "MGLU3.SA     2250\n",
       "MSFT         2250\n",
       "PETR4.SA     2250\n",
       "600050.SS    2250\n",
       "RENT3.SA     2250\n",
       "SAN.MC       2250\n",
       "STLA.MI      2250\n",
       "T            2250\n",
       "TR           2250\n",
       "VALE3.SA     2250\n",
       "ZC           2250\n",
       "ZR           2250\n",
       "ZS           2250\n",
       "ZW           2250\n",
       "GC           2250\n",
       "FL           2250\n",
       "F            2250\n",
       "ENI.MI       2250\n",
       "600157.SS    2250\n",
       "600537.SS    2250\n",
       "600777.SS    2250\n",
       "600795.SS    2250\n",
       "601288.SS    2250\n",
       "601398.SS    2250\n",
       "601899.SS    2250\n",
       "603993.SS    2250\n",
       "AAPL         2250\n",
       "AMZN         2250\n",
       "B3SA3.SA     2250\n",
       "BAC          2250\n",
       "BBAS3.SA     2250\n",
       "BBDC4.SA     2250\n",
       "BBVA.MC      2250\n",
       "CB           2250\n",
       "CMCSA        2250\n",
       "CS.PA        2250\n",
       "DTE.DE       2250\n",
       "ELET3.SA     2250\n",
       "ENEL.MI      2250\n",
       "iSP.MI       2250\n",
       "Name: tic, dtype: int64"
      ]
     },
     "execution_count": 20,
     "metadata": {},
     "output_type": "execute_result"
    }
   ],
   "source": [
    "df['tic'].value_counts()"
   ]
  },
  {
   "cell_type": "code",
   "execution_count": 21,
   "metadata": {
    "colab": {
     "base_uri": "https://localhost:8080/"
    },
    "id": "_zsIW1LAiqCb",
    "outputId": "080be760-c4b2-4115-db37-b132cd482971",
    "pycharm": {
     "is_executing": true
    }
   },
   "outputs": [
    {
     "data": {
      "text/plain": [
       "(112500, 17)"
      ]
     },
     "execution_count": 21,
     "metadata": {},
     "output_type": "execute_result"
    }
   ],
   "source": [
    "df.shape"
   ]
  },
  {
   "cell_type": "markdown",
   "metadata": {
    "id": "qz9K2vul6RmK"
   },
   "source": [
    "## Add covariance matrix as states"
   ]
  },
  {
   "cell_type": "code",
   "execution_count": 22,
   "metadata": {
    "id": "IhizvNwcrg1n",
    "pycharm": {
     "is_executing": true
    }
   },
   "outputs": [],
   "source": [
    "df = add_covariance(df)"
   ]
  },
  {
   "cell_type": "code",
   "execution_count": 23,
   "metadata": {
    "colab": {
     "base_uri": "https://localhost:8080/"
    },
    "id": "dUPwwa13uBQ-",
    "outputId": "2aa538ba-9935-4f69-b8c8-2cf3a3a55e42",
    "pycharm": {
     "is_executing": true
    }
   },
   "outputs": [
    {
     "data": {
      "text/plain": [
       "(99900, 19)"
      ]
     },
     "execution_count": 23,
     "metadata": {},
     "output_type": "execute_result"
    }
   ],
   "source": [
    "df.shape"
   ]
  },
  {
   "cell_type": "markdown",
   "metadata": {
    "id": "UooHj1OgbU4v"
   },
   "source": [
    "<a id='4'></a>\n",
    "# Part 5. Design Environment\n",
    "Considering the stochastic and interactive nature of the automated stock trading tasks, a financial task is modeled as a **Markov Decision Process (MDP)** problem. The training process involves observing stock price change, taking an action and reward's calculation to have the agent adjusting its strategy accordingly. By interacting with the environment, the trading agent will derive a trading strategy with the maximized rewards as time proceeds.\n",
    "\n",
    "Our trading environments, based on OpenAI Gym framework, simulate live stock markets with real market data according to the principle of time-driven simulation.\n"
   ]
  },
  {
   "cell_type": "code",
   "execution_count": 24,
   "metadata": {},
   "outputs": [
    {
     "name": "stdout",
     "output_type": "stream",
     "text": [
      "0   2013-12-03\n",
      "Name: date, dtype: datetime64[ns]\n",
      "99899   2022-10-27\n",
      "Name: date, dtype: datetime64[ns]\n"
     ]
    }
   ],
   "source": [
    "print(df.date.head(1))\n",
    "print(df.date.tail(1))"
   ]
  },
  {
   "cell_type": "markdown",
   "metadata": {
    "id": "MQnmN1qdk88I"
   },
   "source": [
    "## Training data split: 2009-01-01 to 2020-07-01"
   ]
  },
  {
   "cell_type": "code",
   "execution_count": 25,
   "metadata": {
    "id": "NrPxgv4eBQ_R",
    "pycharm": {
     "is_executing": true
    }
   },
   "outputs": [],
   "source": [
    "train = data_split(df, '2013-12-03','2018-01-01')\n",
    "trade = data_split(df,'2018-01-02', '2022-10-27')"
   ]
  },
  {
   "cell_type": "code",
   "execution_count": 26,
   "metadata": {
    "colab": {
     "base_uri": "https://localhost:8080/",
     "height": 444
    },
    "id": "vU2vXEll0hfk",
    "outputId": "e8c76dfd-2c43-4f60-8eee-a1a4f564eed6",
    "pycharm": {
     "is_executing": true
    }
   },
   "outputs": [
    {
     "data": {
      "text/html": [
       "<div>\n",
       "<style scoped>\n",
       "    .dataframe tbody tr th:only-of-type {\n",
       "        vertical-align: middle;\n",
       "    }\n",
       "\n",
       "    .dataframe tbody tr th {\n",
       "        vertical-align: top;\n",
       "    }\n",
       "\n",
       "    .dataframe thead th {\n",
       "        text-align: right;\n",
       "    }\n",
       "</style>\n",
       "<table border=\"1\" class=\"dataframe\">\n",
       "  <thead>\n",
       "    <tr style=\"text-align: right;\">\n",
       "      <th></th>\n",
       "      <th>date</th>\n",
       "      <th>open</th>\n",
       "      <th>high</th>\n",
       "      <th>low</th>\n",
       "      <th>close</th>\n",
       "      <th>adjcp</th>\n",
       "      <th>volume</th>\n",
       "      <th>tic</th>\n",
       "      <th>day</th>\n",
       "      <th>macd</th>\n",
       "      <th>boll_ub</th>\n",
       "      <th>boll_lb</th>\n",
       "      <th>rsi_30</th>\n",
       "      <th>cci_30</th>\n",
       "      <th>dx_30</th>\n",
       "      <th>close_30_sma</th>\n",
       "      <th>close_60_sma</th>\n",
       "      <th>cov_list</th>\n",
       "      <th>return_list</th>\n",
       "    </tr>\n",
       "  </thead>\n",
       "  <tbody>\n",
       "    <tr>\n",
       "      <th>0</th>\n",
       "      <td>2013-12-03</td>\n",
       "      <td>1.400000</td>\n",
       "      <td>1.400000</td>\n",
       "      <td>1.400000</td>\n",
       "      <td>1.400000</td>\n",
       "      <td>1.372160</td>\n",
       "      <td>0.0</td>\n",
       "      <td>600010.SS</td>\n",
       "      <td>1</td>\n",
       "      <td>-0.003455</td>\n",
       "      <td>1.400000</td>\n",
       "      <td>1.400000</td>\n",
       "      <td>46.404911</td>\n",
       "      <td>-13.801097</td>\n",
       "      <td>6.946997</td>\n",
       "      <td>1.402024</td>\n",
       "      <td>1.416488</td>\n",
       "      <td>[[0.000501897894437649, 0.00014178723648854168...</td>\n",
       "      <td>tic         600010.SS  600050.SS  600157.SS  6...</td>\n",
       "    </tr>\n",
       "    <tr>\n",
       "      <th>0</th>\n",
       "      <td>2013-12-03</td>\n",
       "      <td>3.400000</td>\n",
       "      <td>3.480000</td>\n",
       "      <td>3.370000</td>\n",
       "      <td>3.440000</td>\n",
       "      <td>3.039121</td>\n",
       "      <td>103779924.0</td>\n",
       "      <td>600050.SS</td>\n",
       "      <td>1</td>\n",
       "      <td>0.005430</td>\n",
       "      <td>3.462869</td>\n",
       "      <td>3.216131</td>\n",
       "      <td>53.528358</td>\n",
       "      <td>102.492158</td>\n",
       "      <td>25.151774</td>\n",
       "      <td>3.358000</td>\n",
       "      <td>3.360500</td>\n",
       "      <td>[[0.000501897894437649, 0.00014178723648854168...</td>\n",
       "      <td>tic         600010.SS  600050.SS  600157.SS  6...</td>\n",
       "    </tr>\n",
       "    <tr>\n",
       "      <th>0</th>\n",
       "      <td>2013-12-03</td>\n",
       "      <td>2.342307</td>\n",
       "      <td>2.376923</td>\n",
       "      <td>2.330769</td>\n",
       "      <td>2.373076</td>\n",
       "      <td>2.239880</td>\n",
       "      <td>39431228.0</td>\n",
       "      <td>600157.SS</td>\n",
       "      <td>1</td>\n",
       "      <td>-0.008643</td>\n",
       "      <td>2.469121</td>\n",
       "      <td>2.281263</td>\n",
       "      <td>46.820058</td>\n",
       "      <td>-20.530516</td>\n",
       "      <td>4.950777</td>\n",
       "      <td>2.370769</td>\n",
       "      <td>2.475512</td>\n",
       "      <td>[[0.000501897894437649, 0.00014178723648854168...</td>\n",
       "      <td>tic         600010.SS  600050.SS  600157.SS  6...</td>\n",
       "    </tr>\n",
       "    <tr>\n",
       "      <th>0</th>\n",
       "      <td>2013-12-03</td>\n",
       "      <td>5.054545</td>\n",
       "      <td>5.163636</td>\n",
       "      <td>5.000000</td>\n",
       "      <td>5.145454</td>\n",
       "      <td>4.831295</td>\n",
       "      <td>9891292.0</td>\n",
       "      <td>600537.SS</td>\n",
       "      <td>1</td>\n",
       "      <td>-0.111753</td>\n",
       "      <td>5.601813</td>\n",
       "      <td>4.986823</td>\n",
       "      <td>46.425500</td>\n",
       "      <td>-83.708023</td>\n",
       "      <td>23.351325</td>\n",
       "      <td>5.534697</td>\n",
       "      <td>5.675303</td>\n",
       "      <td>[[0.000501897894437649, 0.00014178723648854168...</td>\n",
       "      <td>tic         600010.SS  600050.SS  600157.SS  6...</td>\n",
       "    </tr>\n",
       "    <tr>\n",
       "      <th>0</th>\n",
       "      <td>2013-12-03</td>\n",
       "      <td>1.457894</td>\n",
       "      <td>1.457894</td>\n",
       "      <td>1.457894</td>\n",
       "      <td>1.457894</td>\n",
       "      <td>1.457894</td>\n",
       "      <td>0.0</td>\n",
       "      <td>600777.SS</td>\n",
       "      <td>1</td>\n",
       "      <td>0.008107</td>\n",
       "      <td>1.517146</td>\n",
       "      <td>1.409695</td>\n",
       "      <td>53.793799</td>\n",
       "      <td>23.767776</td>\n",
       "      <td>5.074069</td>\n",
       "      <td>1.452456</td>\n",
       "      <td>1.406228</td>\n",
       "      <td>[[0.000501897894437649, 0.00014178723648854168...</td>\n",
       "      <td>tic         600010.SS  600050.SS  600157.SS  6...</td>\n",
       "    </tr>\n",
       "  </tbody>\n",
       "</table>\n",
       "</div>"
      ],
      "text/plain": [
       "        date      open      high       low     close     adjcp       volume  \\\n",
       "0 2013-12-03  1.400000  1.400000  1.400000  1.400000  1.372160          0.0   \n",
       "0 2013-12-03  3.400000  3.480000  3.370000  3.440000  3.039121  103779924.0   \n",
       "0 2013-12-03  2.342307  2.376923  2.330769  2.373076  2.239880   39431228.0   \n",
       "0 2013-12-03  5.054545  5.163636  5.000000  5.145454  4.831295    9891292.0   \n",
       "0 2013-12-03  1.457894  1.457894  1.457894  1.457894  1.457894          0.0   \n",
       "\n",
       "         tic  day      macd   boll_ub   boll_lb     rsi_30      cci_30  \\\n",
       "0  600010.SS    1 -0.003455  1.400000  1.400000  46.404911  -13.801097   \n",
       "0  600050.SS    1  0.005430  3.462869  3.216131  53.528358  102.492158   \n",
       "0  600157.SS    1 -0.008643  2.469121  2.281263  46.820058  -20.530516   \n",
       "0  600537.SS    1 -0.111753  5.601813  4.986823  46.425500  -83.708023   \n",
       "0  600777.SS    1  0.008107  1.517146  1.409695  53.793799   23.767776   \n",
       "\n",
       "       dx_30  close_30_sma  close_60_sma  \\\n",
       "0   6.946997      1.402024      1.416488   \n",
       "0  25.151774      3.358000      3.360500   \n",
       "0   4.950777      2.370769      2.475512   \n",
       "0  23.351325      5.534697      5.675303   \n",
       "0   5.074069      1.452456      1.406228   \n",
       "\n",
       "                                            cov_list  \\\n",
       "0  [[0.000501897894437649, 0.00014178723648854168...   \n",
       "0  [[0.000501897894437649, 0.00014178723648854168...   \n",
       "0  [[0.000501897894437649, 0.00014178723648854168...   \n",
       "0  [[0.000501897894437649, 0.00014178723648854168...   \n",
       "0  [[0.000501897894437649, 0.00014178723648854168...   \n",
       "\n",
       "                                         return_list  \n",
       "0  tic         600010.SS  600050.SS  600157.SS  6...  \n",
       "0  tic         600010.SS  600050.SS  600157.SS  6...  \n",
       "0  tic         600010.SS  600050.SS  600157.SS  6...  \n",
       "0  tic         600010.SS  600050.SS  600157.SS  6...  \n",
       "0  tic         600010.SS  600050.SS  600157.SS  6...  "
      ]
     },
     "execution_count": 26,
     "metadata": {},
     "output_type": "execute_result"
    }
   ],
   "source": [
    "train.head()"
   ]
  },
  {
   "cell_type": "markdown",
   "metadata": {
    "id": "sxQTNjpblAMN"
   },
   "source": [
    "## Environment for Portfolio Allocation\n",
    "##### Got from utils.py "
   ]
  },
  {
   "cell_type": "code",
   "execution_count": 27,
   "metadata": {
    "colab": {
     "base_uri": "https://localhost:8080/"
    },
    "id": "MzD06X0CbU43",
    "outputId": "ab17eecd-2079-4684-a793-0541088b1c00",
    "pycharm": {
     "is_executing": true
    }
   },
   "outputs": [
    {
     "name": "stdout",
     "output_type": "stream",
     "text": [
      "Stock Dimension: 50, State Space: 50\n"
     ]
    }
   ],
   "source": [
    "stock_dimension = len(train.tic.unique())\n",
    "state_space = stock_dimension\n",
    "print(f\"Stock Dimension: {stock_dimension}, State Space: {state_space}\")\n"
   ]
  },
  {
   "cell_type": "code",
   "execution_count": 28,
   "metadata": {},
   "outputs": [
    {
     "data": {
      "text/plain": [
       "['macd',\n",
       " 'boll_ub',\n",
       " 'boll_lb',\n",
       " 'rsi_30',\n",
       " 'cci_30',\n",
       " 'dx_30',\n",
       " 'close_30_sma',\n",
       " 'close_60_sma']"
      ]
     },
     "execution_count": 28,
     "metadata": {},
     "output_type": "execute_result"
    }
   ],
   "source": [
    "config.INDICATORS"
   ]
  },
  {
   "cell_type": "code",
   "execution_count": 29,
   "metadata": {
    "id": "jyg0_ZuVEVQ5",
    "pycharm": {
     "is_executing": true
    }
   },
   "outputs": [],
   "source": [
    "env_kwargs = {\n",
    "    \"hmax\": 100, \n",
    "    \"initial_amount\": 1000000, \n",
    "    \"transaction_cost_pct\": 0.001, \n",
    "    \"state_space\": state_space, \n",
    "    \"stock_dim\": stock_dimension, \n",
    "    \"tech_indicator_list\": config.INDICATORS, \n",
    "    \"action_space\": stock_dimension, \n",
    "    \"reward_scaling\": 1e-4\n",
    "    \n",
    "}\n",
    "\n",
    "e_train_gym = StockPortfolioEnv(df = train, **env_kwargs)"
   ]
  },
  {
   "cell_type": "code",
   "execution_count": 30,
   "metadata": {},
   "outputs": [
    {
     "data": {
      "text/plain": [
       "50"
      ]
     },
     "execution_count": 30,
     "metadata": {},
     "output_type": "execute_result"
    }
   ],
   "source": [
    "state_space"
   ]
  },
  {
   "cell_type": "code",
   "execution_count": 31,
   "metadata": {
    "colab": {
     "base_uri": "https://localhost:8080/"
    },
    "id": "HTlOf8SJGdkl",
    "outputId": "1141154d-5cdc-41ba-f485-4d6e93680049",
    "pycharm": {
     "is_executing": true
    }
   },
   "outputs": [
    {
     "name": "stdout",
     "output_type": "stream",
     "text": [
      "<class 'stable_baselines3.common.vec_env.dummy_vec_env.DummyVecEnv'>\n"
     ]
    }
   ],
   "source": [
    "env_train, _ = e_train_gym.get_sb_env()\n",
    "print(type(env_train))"
   ]
  },
  {
   "cell_type": "markdown",
   "metadata": {
    "id": "2eKIu5UPlPnk"
   },
   "source": [
    "# <a id='5'></a>\n",
    "# Part 6: Implement DRL Algorithms\n",
    "* The implementation of the DRL algorithms are based on **OpenAI Baselines** and **Stable Baselines**. Stable Baselines is a fork of OpenAI Baselines, with a major structural refactoring, and code cleanups.\n",
    "* FinRL library includes fine-tuned standard DRL algorithms, such as DQN, DDPG,\n",
    "Multi-Agent DDPG, PPO, SAC, A2C and TD3. We also allow users to\n",
    "design their own DRL algorithms by adapting these DRL algorithms."
   ]
  },
  {
   "cell_type": "code",
   "execution_count": null,
   "metadata": {
    "id": "VDxU0iCEGdnb",
    "pycharm": {
     "is_executing": true
    }
   },
   "outputs": [],
   "source": [
    "# initialize\n",
    "agent = DRLAgent(env = env_train)"
   ]
  },
  {
   "cell_type": "markdown",
   "metadata": {
    "id": "hdPe8uzflbXe"
   },
   "source": [
    "### Model 1: **A2C**\n"
   ]
  },
  {
   "cell_type": "code",
   "execution_count": null,
   "metadata": {
    "colab": {
     "base_uri": "https://localhost:8080/"
    },
    "id": "t1tORf1fIcQ2",
    "outputId": "4a1b885a-ef5d-4dff-f24f-c9468347067b",
    "pycharm": {
     "is_executing": true
    }
   },
   "outputs": [],
   "source": [
    "agent = DRLAgent(env = env_train)\n",
    "\n",
    "A2C_PARAMS = {\"n_steps\": 5, \"ent_coef\": 0.005, \"learning_rate\": 0.0002}\n",
    "model_a2c = agent.get_model(model_name=\"a2c\",model_kwargs = A2C_PARAMS)"
   ]
  },
  {
   "cell_type": "code",
   "execution_count": null,
   "metadata": {
    "colab": {
     "base_uri": "https://localhost:8080/"
    },
    "id": "DazEdrMpIdyz",
    "outputId": "540c591c-e0da-43f8-ae08-989d427a8c79",
    "pycharm": {
     "is_executing": true
    }
   },
   "outputs": [],
   "source": [
    "trained_a2c = agent.train_model(model=model_a2c, \n",
    "                                tb_log_name='a2c',\n",
    "                                total_timesteps=50000)"
   ]
  },
  {
   "cell_type": "code",
   "execution_count": null,
   "metadata": {
    "id": "cfhURI26P_Nr",
    "pycharm": {
     "is_executing": true
    }
   },
   "outputs": [],
   "source": [
    "trained_a2c.save('/content/trained_models/trained_a2c.zip')"
   ]
  },
  {
   "cell_type": "markdown",
   "metadata": {
    "id": "lvrqTro3lhAh"
   },
   "source": [
    "### Model 2: **PPO**\n"
   ]
  },
  {
   "cell_type": "code",
   "execution_count": null,
   "metadata": {
    "colab": {
     "base_uri": "https://localhost:8080/"
    },
    "id": "kVXta7jVKMhV",
    "outputId": "619c0909-eb34-43d5-bcd6-3a78ec4c74aa",
    "pycharm": {
     "is_executing": true
    }
   },
   "outputs": [],
   "source": [
    "agent = DRLAgent(env = env_train)\n",
    "PPO_PARAMS = {\n",
    "    \"n_steps\": 2048,\n",
    "    \"ent_coef\": 0.005,\n",
    "    \"learning_rate\": 0.0001,\n",
    "    \"batch_size\": 128,\n",
    "}\n",
    "model_ppo = agent.get_model(\"ppo\",model_kwargs = PPO_PARAMS)"
   ]
  },
  {
   "cell_type": "code",
   "execution_count": null,
   "metadata": {
    "colab": {
     "base_uri": "https://localhost:8080/"
    },
    "id": "z5XlUIszKUGx",
    "outputId": "974eec9d-10a9-422d-cc35-0318743bf91a",
    "pycharm": {
     "is_executing": true
    }
   },
   "outputs": [],
   "source": [
    "trained_ppo = agent.train_model(model=model_ppo, \n",
    "                             tb_log_name='ppo',\n",
    "                             total_timesteps=80000)"
   ]
  },
  {
   "cell_type": "code",
   "execution_count": null,
   "metadata": {
    "id": "zmMmk1amUlEm",
    "pycharm": {
     "is_executing": true
    }
   },
   "outputs": [],
   "source": [
    "trained_ppo.save('/content/trained_models/trained_ppo.zip')"
   ]
  },
  {
   "cell_type": "markdown",
   "metadata": {
    "id": "a3Iuv554xYFH"
   },
   "source": [
    "### Model 3: **DDPG**\n"
   ]
  },
  {
   "cell_type": "code",
   "execution_count": null,
   "metadata": {
    "colab": {
     "base_uri": "https://localhost:8080/"
    },
    "id": "Ojmppgo4LPLz",
    "outputId": "1378d445-f15c-4b2c-833e-1f84e0d78ae2",
    "pycharm": {
     "is_executing": true
    }
   },
   "outputs": [],
   "source": [
    "agent = DRLAgent(env = env_train)\n",
    "DDPG_PARAMS = {\"batch_size\": 128, \"buffer_size\": 50000, \"learning_rate\": 0.001}\n",
    "\n",
    "\n",
    "model_ddpg = agent.get_model(\"ddpg\",model_kwargs = DDPG_PARAMS)"
   ]
  },
  {
   "cell_type": "code",
   "execution_count": null,
   "metadata": {
    "colab": {
     "base_uri": "https://localhost:8080/",
     "height": 1000
    },
    "id": "bWt6BIR0LT25",
    "outputId": "1cd63fbf-b7d1-4f3f-e410-77c383fb6406",
    "pycharm": {
     "is_executing": true
    }
   },
   "outputs": [],
   "source": [
    "trained_ddpg = agent.train_model(model=model_ddpg, \n",
    "                             tb_log_name='ddpg',\n",
    "                             total_timesteps=50000)"
   ]
  },
  {
   "cell_type": "code",
   "execution_count": null,
   "metadata": {
    "id": "x4C64xZ1UrQA",
    "pycharm": {
     "is_executing": true
    }
   },
   "outputs": [],
   "source": [
    "trained_ddpg.save('/content/trained_models/trained_ddpg.zip')"
   ]
  },
  {
   "cell_type": "markdown",
   "metadata": {
    "id": "SPEXBcm-uBJo"
   },
   "source": [
    "### Model 4: **SAC**\n"
   ]
  },
  {
   "cell_type": "code",
   "execution_count": null,
   "metadata": {
    "colab": {
     "base_uri": "https://localhost:8080/"
    },
    "id": "HaWf2QeiLqyO",
    "outputId": "054fdbb0-dee8-4595-f7e4-767eb16d9002",
    "pycharm": {
     "is_executing": true
    }
   },
   "outputs": [],
   "source": [
    "agent = DRLAgent(env = env_train)\n",
    "SAC_PARAMS = {\n",
    "    \"batch_size\": 128,\n",
    "    \"buffer_size\": 100000,\n",
    "    \"learning_rate\": 0.0003,\n",
    "    \"learning_starts\": 100,\n",
    "    \"ent_coef\": \"auto_0.1\",\n",
    "}\n",
    "\n",
    "model_sac = agent.get_model(\"sac\",model_kwargs = SAC_PARAMS)"
   ]
  },
  {
   "cell_type": "code",
   "execution_count": null,
   "metadata": {
    "colab": {
     "base_uri": "https://localhost:8080/",
     "height": 1000
    },
    "id": "ZgYVPqtKLvi3",
    "outputId": "08d13796-1f44-43e4-a2db-f6dc5119e9cb",
    "pycharm": {
     "is_executing": true
    }
   },
   "outputs": [],
   "source": [
    "trained_sac = agent.train_model(model=model_sac, \n",
    "                             tb_log_name='sac',\n",
    "                             total_timesteps=50000)"
   ]
  },
  {
   "cell_type": "code",
   "execution_count": null,
   "metadata": {
    "id": "-nUIx62dUvfF",
    "pycharm": {
     "is_executing": true
    }
   },
   "outputs": [],
   "source": [
    "trained_sac.save('/content/trained_models/trained_sac.zip')"
   ]
  },
  {
   "cell_type": "markdown",
   "metadata": {
    "id": "iidB5E27dfzh"
   },
   "source": [
    "### Model 5: **TD3**\n"
   ]
  },
  {
   "cell_type": "code",
   "execution_count": null,
   "metadata": {
    "colab": {
     "base_uri": "https://localhost:8080/"
    },
    "id": "XtRp1mWydkvs",
    "outputId": "90c04c04-2793-4bfc-f58c-b0df1431e061",
    "pycharm": {
     "is_executing": true
    }
   },
   "outputs": [],
   "source": [
    "agent = DRLAgent(env = env_train)\n",
    "TD3_PARAMS = {\"batch_size\": 100, \n",
    "              \"buffer_size\": 1000000, \n",
    "              \"learning_rate\": 0.001}\n",
    "\n",
    "model_td3 = agent.get_model(\"td3\",model_kwargs = TD3_PARAMS)"
   ]
  },
  {
   "cell_type": "code",
   "execution_count": null,
   "metadata": {
    "colab": {
     "base_uri": "https://localhost:8080/",
     "height": 553
    },
    "id": "argM0DtodmNL",
    "outputId": "3028f13d-2e3f-429b-87d4-ca998fb44057",
    "pycharm": {
     "is_executing": true
    }
   },
   "outputs": [],
   "source": [
    "trained_td3 = agent.train_model(model=model_td3, \n",
    "                             tb_log_name='td3',\n",
    "                             total_timesteps=30000)"
   ]
  },
  {
   "cell_type": "code",
   "execution_count": null,
   "metadata": {
    "id": "nGXdd4uEUzCk",
    "pycharm": {
     "is_executing": true
    }
   },
   "outputs": [],
   "source": [
    "trained_td3.save('/content/trained_models/trained_td3.zip')"
   ]
  },
  {
   "cell_type": "markdown",
   "metadata": {
    "id": "E2Ma6YpTlnuZ"
   },
   "source": [
    "## Trading\n",
    "Assume that we have $1,000,000 initial capital at 2019-01-01. We use the A2C model to trade Dow jones 30 stocks."
   ]
  },
  {
   "cell_type": "code",
   "execution_count": null,
   "metadata": {},
   "outputs": [],
   "source": [
    "df.tail()"
   ]
  },
  {
   "cell_type": "code",
   "execution_count": null,
   "metadata": {
    "id": "uas8U6k455sI",
    "pycharm": {
     "is_executing": true
    }
   },
   "outputs": [],
   "source": [
    "e_trade_gym = StockPortfolioEnv(df = trade, **env_kwargs)"
   ]
  },
  {
   "cell_type": "code",
   "execution_count": null,
   "metadata": {
    "id": "LcGYlhyal205",
    "pycharm": {
     "is_executing": true
    }
   },
   "outputs": [],
   "source": [
    "trade.shape"
   ]
  },
  {
   "cell_type": "code",
   "execution_count": null,
   "metadata": {
    "id": "Qq4W9FbSstT7",
    "pycharm": {
     "is_executing": true
    }
   },
   "outputs": [],
   "source": [
    "#trained_sac\n",
    "#trained_ddpg\n",
    "#trained_ppo\n",
    "#trained_a2c\n",
    "#trained_td3\n",
    "\n",
    "df_daily_return, df_actions = DRLAgent.DRL_prediction(model=trained_sac,\n",
    "                        environment = e_trade_gym)\n",
    "\n",
    "df_daily_return2, df_actions2 = DRLAgent.DRL_prediction(model=trained_ddpg,\n",
    "                        environment = e_trade_gym)\n",
    "\n",
    "df_daily_return3, df_actions3 = DRLAgent.DRL_prediction(model=trained_ppo,\n",
    "                        environment = e_trade_gym)\n",
    "\n",
    "df_daily_return4, df_actions4 = DRLAgent.DRL_prediction(model=trained_a2c,\n",
    "                        environment = e_trade_gym)\n",
    "\n",
    "df_daily_return5, df_actions5 = DRLAgent.DRL_prediction(model=trained_td3,\n",
    "                        environment = e_trade_gym)"
   ]
  },
  {
   "cell_type": "code",
   "execution_count": null,
   "metadata": {
    "id": "vXMMG_9SdKTu",
    "pycharm": {
     "is_executing": true
    }
   },
   "outputs": [],
   "source": [
    "df_daily_return.to_csv('df_daily_return.csv')\n",
    "df_daily_return.to_csv('df_daily_return2.csv')\n",
    "df_daily_return.to_csv('df_daily_return3.csv')\n",
    "df_daily_return.to_csv('df_daily_return4.csv')\n",
    "df_daily_return.to_csv('df_daily_return5.csv')"
   ]
  },
  {
   "cell_type": "code",
   "execution_count": null,
   "metadata": {
    "id": "xBX3Y68o1vRG",
    "pycharm": {
     "is_executing": true
    }
   },
   "outputs": [],
   "source": [
    "df_actions.to_csv('df_actions.csv')\n",
    "df_actions.to_csv('df_actions2.csv')\n",
    "df_actions.to_csv('df_actions3.csv')\n",
    "df_actions.to_csv('df_actions4.csv')\n",
    "df_actions.to_csv('df_actions5.csv')"
   ]
  },
  {
   "cell_type": "markdown",
   "metadata": {
    "id": "qFO42LcomPUT"
   },
   "source": [
    "<a id='6'></a>\n",
    "# Part 7: Backtest Our Strategy\n",
    "Backtesting plays a key role in evaluating the performance of a trading strategy. Automated backtesting tool is preferred because it reduces the human error. We usually use the Quantopian pyfolio package to backtest our trading strategies. It is easy to use and consists of various individual plots that provide a comprehensive image of the performance of a trading strategy."
   ]
  },
  {
   "cell_type": "markdown",
   "metadata": {
    "id": "fAvxipWFmUe8"
   },
   "source": [
    "<a id='6.1'></a>\n",
    "## 7.1 BackTestStats\n",
    "pass in df_account_value, this information is stored in env class\n"
   ]
  },
  {
   "cell_type": "code",
   "execution_count": null,
   "metadata": {
    "id": "1oGu3PCa8l6L",
    "pycharm": {
     "is_executing": true
    }
   },
   "outputs": [],
   "source": [
    "from pyfolio import timeseries\n",
    "DRL_strat = convert_daily_return_to_pyfolio_ts(df_daily_return2)\n",
    "perf_func = timeseries.perf_stats \n",
    "perf_stats_all = perf_func( returns=DRL_strat, \n",
    "                              factor_returns=DRL_strat, \n",
    "                                positions=None, transactions=None, turnover_denom=\"AGB\")"
   ]
  },
  {
   "cell_type": "code",
   "execution_count": null,
   "metadata": {
    "id": "Hqvwr6SY8l9A",
    "pycharm": {
     "is_executing": true
    }
   },
   "outputs": [],
   "source": [
    "print(\"==============DRL Strategy Stats===========\")\n",
    "perf_stats_all"
   ]
  },
  {
   "cell_type": "code",
   "execution_count": null,
   "metadata": {
    "id": "XcWzfa6UloDM",
    "pycharm": {
     "is_executing": true
    },
    "scrolled": true
   },
   "outputs": [],
   "source": [
    "#baseline stats\n",
    "print(\"==============Get Baseline Stats===========\")\n",
    "baseline_df = get_baseline(\n",
    "        ticker=\"^DJI\", \n",
    "        start = df_daily_return.loc[0,'date'],\n",
    "        end = df_daily_return.loc[len(df_daily_return)-1,'date'])\n",
    "\n",
    "stats = backtest_stats(baseline_df, value_col_name = 'close')"
   ]
  },
  {
   "cell_type": "code",
   "execution_count": null,
   "metadata": {},
   "outputs": [],
   "source": [
    "#dp = YahooFinanceProcessor()\n",
    "#df_comp = dp.download_data(start_date = '2008-01-01',\n",
    "#                     end_date = '2021-10-31',\n",
    "#                     ticker_list = ativos, time_interval='1D')\n",
    "#\n",
    "#dates1= df_comp.query('tic == \"AAPL\"').date.tolist()\n",
    "#dates2= df_comp.query('tic == \"PETR3.SA\"').date.tolist()\n",
    "#dates_final=list(set(dates1).intersection(dates2))\n",
    "#print(len(dates1),len(dates2))\n",
    "#print(len(dates_final))\n",
    "#\n",
    "#print(df_comp.shape)\n",
    "#df_comp=df_comp[df_comp['date'].isin(dates_final)]\n",
    "#print(df_comp.shape)\n",
    "#df_comp = data_split(df_comp,'2020-07-01', '2021-10-31')"
   ]
  },
  {
   "cell_type": "code",
   "execution_count": null,
   "metadata": {},
   "outputs": [],
   "source": [
    "#df_comp=df_comp[['date','close','tic']]\n",
    "df_comp = df[['date','close','tic']].tail(38916)\n",
    "df_comp.set_index('date',inplace=True)\n",
    "res = df_comp.pivot(columns='tic', values='close')\n",
    "\n",
    "# Asset weights\n",
    "wts = [0.1,0.1,0.1,0.1,0.1,0.1,0.1,0.1,0.1,0.1,0.1,0.1,0.1,0.1,0.1,0.1,0.1,0.1,0.1,0.1,0.1,0.1,0.1,0.1,0.1,0.1,0.1,0.1,0.1,0.1\n",
    "      ,0.1,0.1,0.1,0.1,0.1,0.1]\n",
    "\n",
    "\n",
    "ret_data = res.pct_change()\n",
    "\n",
    "weighted_returns = (wts * ret_data)\n",
    "weighted_returns.index= pd.to_datetime(weighted_returns.index)\n",
    "weighted_returns"
   ]
  },
  {
   "cell_type": "code",
   "execution_count": null,
   "metadata": {},
   "outputs": [],
   "source": [
    "ptf_return= weighted_returns.sum(axis=1,skipna=False)\n",
    "ptf_return.name= 'Portfolio Returns'\n",
    "ptf_return.index=DRL_strat.index\n",
    "ptf_return"
   ]
  },
  {
   "cell_type": "markdown",
   "metadata": {
    "id": "lVVCMVSAmcrI"
   },
   "source": [
    "<a id='6.2'></a>\n",
    "## 7.2 BackTestPlot"
   ]
  },
  {
   "cell_type": "code",
   "execution_count": null,
   "metadata": {
    "id": "2fqSEF5PfjjT",
    "pycharm": {
     "is_executing": true
    }
   },
   "outputs": [],
   "source": [
    "import pyfolio\n",
    "%matplotlib inline\n",
    "\n",
    "baseline_df = get_baseline(\n",
    "        ticker='^DJI', start=df_daily_return.loc[0,'date'], end='2022-11-04'\n",
    "    )\n",
    "\n",
    "baseline_returns = get_daily_return(baseline_df, value_col_name=\"close\")\n",
    "\n",
    "with pyfolio.plotting.plotting_context(font_scale=1.1):\n",
    "        pyfolio.create_full_tear_sheet(returns = DRL_strat,\n",
    "                                       benchmark_rets=baseline_returns, set_context=False)"
   ]
  },
  {
   "cell_type": "code",
   "execution_count": null,
   "metadata": {},
   "outputs": [],
   "source": [
    "with pyfolio.plotting.plotting_context(font_scale=1.1):\n",
    "        pyfolio.create_full_tear_sheet(returns = DRL_strat,\n",
    "                                       benchmark_rets=ptf_return, set_context=False)"
   ]
  },
  {
   "cell_type": "markdown",
   "metadata": {
    "id": "te3Ibcj5hUbz"
   },
   "source": [
    "## Min-Variance Portfolio Allocation"
   ]
  },
  {
   "cell_type": "code",
   "execution_count": null,
   "metadata": {
    "id": "1VE2eUEuhMKs",
    "pycharm": {
     "is_executing": true
    }
   },
   "outputs": [],
   "source": [
    "#%pip install PyPortfolioOpt"
   ]
  },
  {
   "cell_type": "code",
   "execution_count": null,
   "metadata": {
    "id": "i0NiefM7hHn0",
    "pycharm": {
     "is_executing": true
    }
   },
   "outputs": [],
   "source": [
    "from pypfopt.efficient_frontier import EfficientFrontier\n",
    "from pypfopt import risk_models"
   ]
  },
  {
   "cell_type": "code",
   "execution_count": null,
   "metadata": {
    "id": "lDYDIBH9hcUP",
    "pycharm": {
     "is_executing": true
    }
   },
   "outputs": [],
   "source": [
    "unique_tic = trade.tic.unique()\n",
    "unique_trade_date = trade.date.unique()"
   ]
  },
  {
   "cell_type": "code",
   "execution_count": null,
   "metadata": {
    "id": "8qvk_pJ4iV32",
    "pycharm": {
     "is_executing": true
    }
   },
   "outputs": [],
   "source": [
    "df.head()"
   ]
  },
  {
   "cell_type": "code",
   "execution_count": null,
   "metadata": {
    "id": "EICNukJZgnWl",
    "pycharm": {
     "is_executing": true
    }
   },
   "outputs": [],
   "source": [
    "#calculate_portfolio_minimum_variance\n",
    "portfolio = pd.DataFrame(index = range(1), columns = unique_trade_date)\n",
    "initial_capital = 1000000\n",
    "portfolio.loc[0,unique_trade_date[0]] = initial_capital\n",
    "\n",
    "for i in range(len( unique_trade_date)-1):\n",
    "    df_temp = df[df.date==unique_trade_date[i]].reset_index(drop=True)\n",
    "    df_temp_next = df[df.date==unique_trade_date[i+1]].reset_index(drop=True)\n",
    "    #Sigma = risk_models.sample_cov(df_temp.return_list[0])\n",
    "    #calculate covariance matrix\n",
    "    Sigma = df_temp.return_list[0].cov()\n",
    "    #portfolio allocation\n",
    "    ef_min_var = EfficientFrontier(None, Sigma,weight_bounds=(0, 0.1))\n",
    "    #minimum variance\n",
    "    raw_weights_min_var = ef_min_var.min_volatility()\n",
    "    #get weights\n",
    "    cleaned_weights_min_var = ef_min_var.clean_weights()\n",
    "    \n",
    "    #current capital\n",
    "    cap = portfolio.iloc[0, i]\n",
    "    #current cash invested for each stock\n",
    "    current_cash = [element * cap for element in list(cleaned_weights_min_var.values())]\n",
    "    # current held shares\n",
    "    current_shares = list(np.array(current_cash)\n",
    "                                      / np.array(df_temp.close))\n",
    "    # next time period price\n",
    "    next_price = np.array(df_temp_next.close)\n",
    "    ##next_price * current share to calculate next total account value \n",
    "    portfolio.iloc[0, i+1] = np.dot(current_shares, next_price)\n",
    "    \n",
    "portfolio=portfolio.T\n",
    "portfolio.columns = ['account_value']"
   ]
  },
  {
   "cell_type": "code",
   "execution_count": null,
   "metadata": {},
   "outputs": [],
   "source": [
    "#trained_sac\n",
    "#trained_ddpg\n",
    "#trained_ppo\n",
    "#trained_a2c\n",
    "sac_cumpod =(df_daily_return.daily_return+1).cumprod()-1\n",
    "ddpg_cumpod =(df_daily_return2.daily_return+1).cumprod()-1\n",
    "ppo_cumpod =(df_daily_return3.daily_return+1).cumprod()-1\n",
    "a2c_cumpod =(df_daily_return4.daily_return+1).cumprod()-1\n"
   ]
  },
  {
   "cell_type": "code",
   "execution_count": null,
   "metadata": {
    "id": "y821cLKkhCn6",
    "pycharm": {
     "is_executing": true
    }
   },
   "outputs": [],
   "source": [
    "min_var_cumpod =(portfolio.account_value.pct_change().fillna(0)+1).cumprod()-1"
   ]
  },
  {
   "cell_type": "code",
   "execution_count": null,
   "metadata": {
    "id": "5E1X9FFGgqeZ",
    "pycharm": {
     "is_executing": true
    }
   },
   "outputs": [],
   "source": [
    "dji_cumpod =(baseline_returns.fillna(0)+1).cumprod()-1"
   ]
  },
  {
   "cell_type": "code",
   "execution_count": null,
   "metadata": {},
   "outputs": [],
   "source": [
    "ptf_cumpod =(ptf_return.fillna(0)+1).cumprod()-1"
   ]
  },
  {
   "cell_type": "markdown",
   "metadata": {
    "id": "Ih6Jim-blNKY"
   },
   "source": [
    "## Plotly: DRL, Min-Variance, DJIA"
   ]
  },
  {
   "cell_type": "code",
   "execution_count": null,
   "metadata": {},
   "outputs": [],
   "source": [
    "#%pip install plotly"
   ]
  },
  {
   "cell_type": "code",
   "execution_count": null,
   "metadata": {
    "id": "CJRH-FX3hTRZ",
    "pycharm": {
     "is_executing": true
    }
   },
   "outputs": [],
   "source": [
    "from datetime import datetime as dt\n",
    "\n",
    "import matplotlib.pyplot as plt\n",
    "import plotly\n",
    "import plotly.graph_objs as go"
   ]
  },
  {
   "cell_type": "code",
   "execution_count": null,
   "metadata": {
    "id": "mpfgJcG5PInj",
    "pycharm": {
     "is_executing": true
    }
   },
   "outputs": [],
   "source": [
    "time_ind = pd.Series(df_daily_return.date)"
   ]
  },
  {
   "cell_type": "code",
   "execution_count": null,
   "metadata": {
    "id": "CM-NJKa8g7Jp",
    "pycharm": {
     "is_executing": true
    }
   },
   "outputs": [],
   "source": [
    "#trained_sac\n",
    "#trained_ddpg\n",
    "#trained_ppo\n",
    "#trained_a2c\n",
    "\n",
    "\n",
    "trace0_portfolio = go.Scatter(x = time_ind, y = a2c_cumpod, mode = 'lines', name = 'A2C (Portfolio Allocation)')\n",
    "trace1_portfolio = go.Scatter(x = time_ind, y = dji_cumpod, mode = 'lines', name = 'DJIA')\n",
    "trace2_portfolio = go.Scatter(x = time_ind, y = min_var_cumpod, mode = 'lines', name = 'Min-Variance')\n",
    "trace3_portfolio = go.Scatter(x = time_ind, y = ptf_cumpod, mode = 'lines', name = 'Portfolio Buy & Hold')\n",
    "trace4_portfolio = go.Scatter(x = time_ind, y = ddpg_cumpod, mode = 'lines', name = 'DDPG')\n",
    "trace5_portfolio = go.Scatter(x = time_ind, y = sac_cumpod, mode = 'lines', name = 'SAC')\n",
    "trace6_portfolio = go.Scatter(x = time_ind, y = ppo_cumpod, mode = 'lines', name = 'PPO')\n",
    "\n",
    "#trace4 = go.Scatter(x = time_ind, y = addpg_cumpod, mode = 'lines', name = 'Adaptive-DDPG')\n",
    "\n",
    "#trace2 = go.Scatter(x = time_ind, y = portfolio_cost_minv, mode = 'lines', name = 'Min-Variance')\n",
    "#trace3 = go.Scatter(x = time_ind, y = spx_value, mode = 'lines', name = 'SPX')"
   ]
  },
  {
   "cell_type": "code",
   "execution_count": null,
   "metadata": {
    "id": "35nVVmEuhGa1",
    "pycharm": {
     "is_executing": true
    },
    "scrolled": true
   },
   "outputs": [],
   "source": [
    "fig = go.Figure()\n",
    "fig.add_trace(trace0_portfolio)\n",
    "fig.add_trace(trace1_portfolio)\n",
    "fig.add_trace(trace2_portfolio)\n",
    "fig.add_trace(trace3_portfolio)\n",
    "fig.add_trace(trace4_portfolio)\n",
    "fig.add_trace(trace5_portfolio)\n",
    "fig.add_trace(trace6_portfolio)\n",
    "\n",
    "\n",
    "\n",
    "\n",
    "fig.update_layout(\n",
    "    legend=dict(\n",
    "        x=0,\n",
    "        y=1,\n",
    "        traceorder=\"normal\",\n",
    "        font=dict(\n",
    "            family=\"sans-serif\",\n",
    "            size=15,\n",
    "            color=\"black\"\n",
    "        ),\n",
    "        bgcolor=\"White\",\n",
    "        bordercolor=\"white\",\n",
    "        borderwidth=2\n",
    "        \n",
    "    ),\n",
    ")\n",
    "#fig.update_layout(legend_orientation=\"h\")\n",
    "fig.update_layout(title={\n",
    "        #'text': \"Cumulative Return using FinRL\",\n",
    "        'y':0.85,\n",
    "        'x':0.5,\n",
    "        'xanchor': 'center',\n",
    "        'yanchor': 'top'})\n",
    "#with Transaction cost\n",
    "#fig.update_layout(title =  'Quarterly Trade Date')\n",
    "fig.update_layout(\n",
    "#    margin=dict(l=20, r=20, t=20, b=20),\n",
    "\n",
    "    #paper_bgcolor='rgba(1,1,0,0)',\n",
    "    #paper_bgcolor='rgb(255,1,0)',\n",
    "    #plot_bgcolor='rgba(1, 1, 0, 0)',\n",
    "    #xaxis_title=\"Date\",\n",
    "    yaxis_title=\"Cumulative Return\",\n",
    "xaxis={'type': 'date', \n",
    "       'tick0': time_ind[0], \n",
    "        'tickmode': 'linear', \n",
    "       'dtick': 86400000.0 *80}\n",
    "\n",
    ")\n",
    "#fig.update_xaxes(showline=True,linecolor='black',showgrid=True, gridwidth=1, gridcolor='LightSteelBlue',mirror=True)\n",
    "#fig.update_yaxes(showline=True,linecolor='black',showgrid=True, gridwidth=1, gridcolor='LightSteelBlue',mirror=True)\n",
    "#fig.update_yaxes(zeroline=True, zerolinewidth=1, zerolinecolor='LightSteelBlue')\n",
    "\n",
    "fig.show()"
   ]
  },
  {
   "cell_type": "code",
   "execution_count": null,
   "metadata": {
    "id": "nXd-N5Rmh6H7",
    "pycharm": {
     "is_executing": true
    }
   },
   "outputs": [],
   "source": []
  },
  {
   "cell_type": "code",
   "execution_count": null,
   "metadata": {},
   "outputs": [],
   "source": []
  },
  {
   "cell_type": "code",
   "execution_count": null,
   "metadata": {},
   "outputs": [],
   "source": []
  }
 ],
 "metadata": {
  "colab": {
   "collapsed_sections": [
    "lvrqTro3lhAh",
    "a3Iuv554xYFH",
    "SPEXBcm-uBJo",
    "iidB5E27dfzh"
   ],
   "include_colab_link": true,
   "name": "FinRL_PortfolioAllocation_NeurIPS_2020.ipynb",
   "provenance": []
  },
  "interpreter": {
   "hash": "0cd912b5b8ef2e2cf6ba30a360471b623d2891ab42b88478be3d571482cb392e"
  },
  "kernelspec": {
   "display_name": "Python 3 (ipykernel)",
   "language": "python",
   "name": "python3"
  },
  "language_info": {
   "codemirror_mode": {
    "name": "ipython",
    "version": 3
   },
   "file_extension": ".py",
   "mimetype": "text/x-python",
   "name": "python",
   "nbconvert_exporter": "python",
   "pygments_lexer": "ipython3",
   "version": "3.7.13"
  }
 },
 "nbformat": 4,
 "nbformat_minor": 1
}
