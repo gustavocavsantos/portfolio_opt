{
  "cells": [
    {
      "cell_type": "markdown",
      "metadata": {
        "id": "12v1i0jVkg48"
      },
      "source": [
        "<a id='0'></a>\n",
        "# Part 1. Problem Definition"
      ]
    },
    {
      "cell_type": "markdown",
      "metadata": {
        "id": "L63HKnWvkirx"
      },
      "source": [
        "This problem is to design an automated trading solution for portfolio alloacation. We model the stock trading process as a Markov Decision Process (MDP). We then formulate our trading goal as a maximization problem.\n",
        "\n",
        "The algorithm is trained using Deep Reinforcement Learning (DRL) algorithms and the components of the reinforcement learning environment are:\n",
        "\n",
        "\n",
        "* Action: The action space describes the allowed actions that the agent interacts with the\n",
        "environment. Normally, a ∈ A represents the weight of a stock in the porfolio: a ∈ (-1,1). Assume our stock pool includes N stocks, we can use a list [a<sub>1</sub>, a<sub>2</sub>, ... , a<sub>N</sub>] to determine the weight for each stock in the porfotlio, where a<sub>i</sub> ∈ (-1,1), a<sub>1</sub>+ a<sub>2</sub>+...+a<sub>N</sub>=1. For example, \"The weight of AAPL in the portfolio is 10%.\" is [0.1 , ...].\n",
        "\n",
        "* Reward function: r(s, a, s′) is the incentive mechanism for an agent to learn a better action. The change of the portfolio value when action a is taken at state s and arriving at new state s',  i.e., r(s, a, s′) = v′ − v, where v′ and v represent the portfolio\n",
        "values at state s′ and s, respectively\n",
        "\n",
        "* State: The state space describes the observations that the agent receives from the environment. Just as a human trader needs to analyze various information before executing a trade, so\n",
        "our trading agent observes many different features to better learn in an interactive environment.\n",
        "\n",
        "* Environment: Dow 30 consituents\n",
        "\n",
        "\n",
        "The data of the single stock that we will be using for this case study is obtained from Yahoo Finance API. The data contains Open-High-Low-Close price and volume.\n"
      ]
    },
    {
      "cell_type": "markdown",
      "metadata": {
        "id": "g_emqQCCklVt"
      },
      "source": [
        "<a id='1'></a>\n",
        "# Part 2. Getting Started- Load Python Packages"
      ]
    },
    {
      "cell_type": "markdown",
      "metadata": {
        "id": "bNmvYN9YbU4B"
      },
      "source": [
        "<a id='1.3'></a>\n",
        "## 2.3. Import Packages"
      ]
    },
    {
      "cell_type": "code",
      "execution_count": 1,
      "metadata": {
        "colab": {
          "base_uri": "https://localhost:8080/"
        },
        "id": "ntfTb0e2bU4C",
        "outputId": "5ee73d83-f253-4150-b806-56a60da1cc77",
        "pycharm": {
          "is_executing": true
        }
      },
      "outputs": [],
      "source": [
        "import pandas as pd\n",
        "import numpy as np\n",
        "import matplotlib\n",
        "import matplotlib.pyplot as plt\n",
        "matplotlib.use('Agg')\n",
        "%matplotlib inline\n",
        "import datetime\n",
        "\n",
        "from finrl import config\n",
        "from finrl import config_tickers\n",
        "from finrl.meta.preprocessor.yahoodownloader import YahooDownloader\n",
        "from finrl.meta.preprocessor.preprocessors import FeatureEngineer, data_split\n",
        "from finrl.meta.env_portfolio_allocation.env_portfolio import StockPortfolioEnv\n",
        "from finrl.agents.stablebaselines3.models import DRLAgent\n",
        "from finrl.plot import backtest_stats, backtest_plot, get_daily_return, get_baseline,convert_daily_return_to_pyfolio_ts\n",
        "from finrl.meta.data_processor import DataProcessor\n",
        "from finrl.meta.data_processors.processor_yahoofinance import YahooFinanceProcessor\n",
        "import sys\n",
        "sys.path.append(\"../FinRL-Library\")"
      ]
    },
    {
      "cell_type": "markdown",
      "metadata": {
        "id": "slBria_QbU4F"
      },
      "source": [
        "<a id='2'></a>\n",
        "# Part 3. Download Data\n",
        "Yahoo Finance is a website that provides stock data, financial news, financial reports, etc. All the data provided by Yahoo Finance is free.\n",
        "* FinRL uses a class **YahooDownloader** to fetch data from Yahoo Finance API\n",
        "* Call Limit: Using the Public API (without authentication), you are limited to 2,000 requests per hour per IP (or up to a total of 48,000 requests a day).\n"
      ]
    },
    {
      "cell_type": "code",
      "execution_count": 2,
      "metadata": {
        "colab": {
          "base_uri": "https://localhost:8080/"
        },
        "id": "CPsuy6d9yRPp",
        "outputId": "5f9be2b1-c3f9-4205-a753-a81a1d793d17",
        "pycharm": {
          "is_executing": true
        }
      },
      "outputs": [
        {
          "name": "stdout",
          "output_type": "stream",
          "text": [
            "['AXP', 'AMGN', 'AAPL', 'BA', 'CAT', 'CSCO', 'CVX', 'GS', 'HD', 'HON', 'IBM', 'INTC', 'JNJ', 'KO', 'JPM', 'MCD', 'MMM', 'MRK', 'MSFT', 'NKE', 'PG', 'TRV', 'UNH', 'CRM', 'VZ', 'V', 'WBA', 'WMT', 'DIS', 'DOW']\n"
          ]
        }
      ],
      "source": [
        "print(config_tickers.DOW_30_TICKER)"
      ]
    },
    {
      "cell_type": "code",
      "execution_count": 3,
      "metadata": {
        "colab": {
          "base_uri": "https://localhost:8080/"
        },
        "id": "WEwzMkFHbU4G",
        "outputId": "8db19feb-cf14-418f-d6d4-99aeb0bfa6ef",
        "pycharm": {
          "is_executing": true
        }
      },
      "outputs": [
        {
          "name": "stdout",
          "output_type": "stream",
          "text": [
            "[*********************100%***********************]  1 of 1 completed\n",
            "[*********************100%***********************]  1 of 1 completed\n",
            "[*********************100%***********************]  1 of 1 completed\n",
            "[*********************100%***********************]  1 of 1 completed\n",
            "[*********************100%***********************]  1 of 1 completed\n",
            "[*********************100%***********************]  1 of 1 completed\n",
            "[*********************100%***********************]  1 of 1 completed\n",
            "[*********************100%***********************]  1 of 1 completed\n",
            "[*********************100%***********************]  1 of 1 completed\n",
            "[*********************100%***********************]  1 of 1 completed\n",
            "[*********************100%***********************]  1 of 1 completed\n",
            "[*********************100%***********************]  1 of 1 completed\n",
            "[*********************100%***********************]  1 of 1 completed\n",
            "[*********************100%***********************]  1 of 1 completed\n",
            "[*********************100%***********************]  1 of 1 completed\n",
            "[*********************100%***********************]  1 of 1 completed\n",
            "[*********************100%***********************]  1 of 1 completed\n",
            "[*********************100%***********************]  1 of 1 completed\n",
            "[*********************100%***********************]  1 of 1 completed\n",
            "[*********************100%***********************]  1 of 1 completed\n",
            "[*********************100%***********************]  1 of 1 completed\n",
            "[*********************100%***********************]  1 of 1 completed\n",
            "[*********************100%***********************]  1 of 1 completed\n",
            "[*********************100%***********************]  1 of 1 completed\n",
            "[*********************100%***********************]  1 of 1 completed\n",
            "[*********************100%***********************]  1 of 1 completed\n",
            "[*********************100%***********************]  1 of 1 completed\n",
            "[*********************100%***********************]  1 of 1 completed\n",
            "[*********************100%***********************]  1 of 1 completed\n",
            "[*********************100%***********************]  1 of 1 completed\n",
            "Shape of DataFrame:  (101615, 9)\n"
          ]
        }
      ],
      "source": [
        "dp = YahooFinanceProcessor()\n",
        "df = dp.download_data(start_date = '2008-01-01',\n",
        "                     end_date = '2021-10-31',\n",
        "                     ticker_list = config_tickers.DOW_30_TICKER, time_interval='1D')"
      ]
    },
    {
      "cell_type": "code",
      "execution_count": 4,
      "metadata": {
        "colab": {
          "base_uri": "https://localhost:8080/",
          "height": 206
        },
        "id": "V1xC-LpbbU4f",
        "outputId": "d601ae03-2909-487e-b5f5-2db9d4e3f8cb",
        "pycharm": {
          "is_executing": true
        }
      },
      "outputs": [
        {
          "data": {
            "text/html": [
              "<div>\n",
              "<style scoped>\n",
              "    .dataframe tbody tr th:only-of-type {\n",
              "        vertical-align: middle;\n",
              "    }\n",
              "\n",
              "    .dataframe tbody tr th {\n",
              "        vertical-align: top;\n",
              "    }\n",
              "\n",
              "    .dataframe thead th {\n",
              "        text-align: right;\n",
              "    }\n",
              "</style>\n",
              "<table border=\"1\" class=\"dataframe\">\n",
              "  <thead>\n",
              "    <tr style=\"text-align: right;\">\n",
              "      <th></th>\n",
              "      <th>date</th>\n",
              "      <th>open</th>\n",
              "      <th>high</th>\n",
              "      <th>low</th>\n",
              "      <th>close</th>\n",
              "      <th>adjcp</th>\n",
              "      <th>volume</th>\n",
              "      <th>tic</th>\n",
              "      <th>day</th>\n",
              "    </tr>\n",
              "  </thead>\n",
              "  <tbody>\n",
              "    <tr>\n",
              "      <th>0</th>\n",
              "      <td>2008-01-02</td>\n",
              "      <td>7.116786</td>\n",
              "      <td>7.152143</td>\n",
              "      <td>6.876786</td>\n",
              "      <td>6.958571</td>\n",
              "      <td>5.931610</td>\n",
              "      <td>1079178800</td>\n",
              "      <td>AAPL</td>\n",
              "      <td>2</td>\n",
              "    </tr>\n",
              "    <tr>\n",
              "      <th>1</th>\n",
              "      <td>2008-01-02</td>\n",
              "      <td>46.599998</td>\n",
              "      <td>47.040001</td>\n",
              "      <td>46.259998</td>\n",
              "      <td>46.599998</td>\n",
              "      <td>34.931576</td>\n",
              "      <td>7934400</td>\n",
              "      <td>AMGN</td>\n",
              "      <td>2</td>\n",
              "    </tr>\n",
              "    <tr>\n",
              "      <th>2</th>\n",
              "      <td>2008-01-02</td>\n",
              "      <td>52.090000</td>\n",
              "      <td>52.320000</td>\n",
              "      <td>50.790001</td>\n",
              "      <td>51.040001</td>\n",
              "      <td>40.173492</td>\n",
              "      <td>8053700</td>\n",
              "      <td>AXP</td>\n",
              "      <td>2</td>\n",
              "    </tr>\n",
              "    <tr>\n",
              "      <th>3</th>\n",
              "      <td>2008-01-02</td>\n",
              "      <td>87.570000</td>\n",
              "      <td>87.839996</td>\n",
              "      <td>86.000000</td>\n",
              "      <td>86.620003</td>\n",
              "      <td>63.481606</td>\n",
              "      <td>4303000</td>\n",
              "      <td>BA</td>\n",
              "      <td>2</td>\n",
              "    </tr>\n",
              "    <tr>\n",
              "      <th>4</th>\n",
              "      <td>2008-01-02</td>\n",
              "      <td>72.559998</td>\n",
              "      <td>72.669998</td>\n",
              "      <td>70.050003</td>\n",
              "      <td>70.629997</td>\n",
              "      <td>46.539078</td>\n",
              "      <td>6337800</td>\n",
              "      <td>CAT</td>\n",
              "      <td>2</td>\n",
              "    </tr>\n",
              "  </tbody>\n",
              "</table>\n",
              "</div>"
            ],
            "text/plain": [
              "         date       open       high        low      close      adjcp  \\\n",
              "0  2008-01-02   7.116786   7.152143   6.876786   6.958571   5.931610   \n",
              "1  2008-01-02  46.599998  47.040001  46.259998  46.599998  34.931576   \n",
              "2  2008-01-02  52.090000  52.320000  50.790001  51.040001  40.173492   \n",
              "3  2008-01-02  87.570000  87.839996  86.000000  86.620003  63.481606   \n",
              "4  2008-01-02  72.559998  72.669998  70.050003  70.629997  46.539078   \n",
              "\n",
              "       volume   tic  day  \n",
              "0  1079178800  AAPL    2  \n",
              "1     7934400  AMGN    2  \n",
              "2     8053700   AXP    2  \n",
              "3     4303000    BA    2  \n",
              "4     6337800   CAT    2  "
            ]
          },
          "execution_count": 4,
          "metadata": {},
          "output_type": "execute_result"
        }
      ],
      "source": [
        "df.head()"
      ]
    },
    {
      "cell_type": "code",
      "execution_count": 5,
      "metadata": {
        "colab": {
          "base_uri": "https://localhost:8080/"
        },
        "id": "mS1-nxRzbU4i",
        "outputId": "6ba62b6c-f24d-453b-8fc5-4bf1d58d0983",
        "pycharm": {
          "is_executing": true
        }
      },
      "outputs": [
        {
          "data": {
            "text/plain": [
              "(101615, 9)"
            ]
          },
          "execution_count": 5,
          "metadata": {},
          "output_type": "execute_result"
        }
      ],
      "source": [
        "df.shape"
      ]
    },
    {
      "cell_type": "markdown",
      "metadata": {
        "id": "V9UwKwzRbU4l"
      },
      "source": [
        "# Part 4: Preprocess Data\n",
        "Data preprocessing is a crucial step for training a high quality machine learning model. We need to check for missing data and do feature engineering in order to convert the data into a model-ready state.\n",
        "* Add technical indicators. In practical trading, various information needs to be taken into account, for example the historical stock prices, current holding shares, technical indicators, etc. In this article, we demonstrate two trend-following technical indicators: MACD and RSI.\n",
        "* Add turbulence index. Risk-aversion reflects whether an investor will choose to preserve the capital. It also influences one's trading strategy when facing different market volatility level. To control the risk in a worst-case scenario, such as financial crisis of 2007–2008, FinRL employs the financial turbulence index that measures extreme asset price fluctuation."
      ]
    },
    {
      "cell_type": "code",
      "execution_count": 6,
      "metadata": {
        "colab": {
          "base_uri": "https://localhost:8080/"
        },
        "id": "P5h8RbeBHMDQ",
        "outputId": "dfa222bf-1363-4354-f825-28d86f50bbff",
        "pycharm": {
          "is_executing": true
        }
      },
      "outputs": [
        {
          "name": "stdout",
          "output_type": "stream",
          "text": [
            "Successfully added technical indicators\n"
          ]
        }
      ],
      "source": [
        "fe = FeatureEngineer(\n",
        "                    use_technical_indicator=True,\n",
        "                    use_turbulence=False,\n",
        "                    user_defined_feature = False)\n",
        "\n",
        "df = fe.preprocess_data(df)"
      ]
    },
    {
      "cell_type": "code",
      "execution_count": 7,
      "metadata": {
        "colab": {
          "base_uri": "https://localhost:8080/"
        },
        "id": "_zsIW1LAiqCb",
        "outputId": "080be760-c4b2-4115-db37-b132cd482971",
        "pycharm": {
          "is_executing": true
        }
      },
      "outputs": [
        {
          "data": {
            "text/plain": [
              "(97524, 17)"
            ]
          },
          "execution_count": 7,
          "metadata": {},
          "output_type": "execute_result"
        }
      ],
      "source": [
        "df.shape"
      ]
    },
    {
      "cell_type": "code",
      "execution_count": 8,
      "metadata": {
        "colab": {
          "base_uri": "https://localhost:8080/",
          "height": 357
        },
        "id": "lWB-RoTSbU4s",
        "outputId": "3177f1b3-46e9-4310-9567-280527943c47",
        "pycharm": {
          "is_executing": true
        }
      },
      "outputs": [
        {
          "data": {
            "text/html": [
              "<div>\n",
              "<style scoped>\n",
              "    .dataframe tbody tr th:only-of-type {\n",
              "        vertical-align: middle;\n",
              "    }\n",
              "\n",
              "    .dataframe tbody tr th {\n",
              "        vertical-align: top;\n",
              "    }\n",
              "\n",
              "    .dataframe thead th {\n",
              "        text-align: right;\n",
              "    }\n",
              "</style>\n",
              "<table border=\"1\" class=\"dataframe\">\n",
              "  <thead>\n",
              "    <tr style=\"text-align: right;\">\n",
              "      <th></th>\n",
              "      <th>date</th>\n",
              "      <th>open</th>\n",
              "      <th>high</th>\n",
              "      <th>low</th>\n",
              "      <th>close</th>\n",
              "      <th>adjcp</th>\n",
              "      <th>volume</th>\n",
              "      <th>tic</th>\n",
              "      <th>day</th>\n",
              "      <th>macd</th>\n",
              "      <th>boll_ub</th>\n",
              "      <th>boll_lb</th>\n",
              "      <th>rsi_30</th>\n",
              "      <th>cci_30</th>\n",
              "      <th>dx_30</th>\n",
              "      <th>close_30_sma</th>\n",
              "      <th>close_60_sma</th>\n",
              "    </tr>\n",
              "  </thead>\n",
              "  <tbody>\n",
              "    <tr>\n",
              "      <th>0</th>\n",
              "      <td>2008-01-02</td>\n",
              "      <td>7.116786</td>\n",
              "      <td>7.152143</td>\n",
              "      <td>6.876786</td>\n",
              "      <td>6.958571</td>\n",
              "      <td>5.931610</td>\n",
              "      <td>1079178800</td>\n",
              "      <td>AAPL</td>\n",
              "      <td>2</td>\n",
              "      <td>0.0</td>\n",
              "      <td>6.964725</td>\n",
              "      <td>6.955632</td>\n",
              "      <td>100.0</td>\n",
              "      <td>-66.666667</td>\n",
              "      <td>100.0</td>\n",
              "      <td>6.958571</td>\n",
              "      <td>6.958571</td>\n",
              "    </tr>\n",
              "    <tr>\n",
              "      <th>3483</th>\n",
              "      <td>2008-01-02</td>\n",
              "      <td>46.599998</td>\n",
              "      <td>47.040001</td>\n",
              "      <td>46.259998</td>\n",
              "      <td>46.599998</td>\n",
              "      <td>34.931576</td>\n",
              "      <td>7934400</td>\n",
              "      <td>AMGN</td>\n",
              "      <td>2</td>\n",
              "      <td>0.0</td>\n",
              "      <td>6.964725</td>\n",
              "      <td>6.955632</td>\n",
              "      <td>100.0</td>\n",
              "      <td>-66.666667</td>\n",
              "      <td>100.0</td>\n",
              "      <td>46.599998</td>\n",
              "      <td>46.599998</td>\n",
              "    </tr>\n",
              "    <tr>\n",
              "      <th>6966</th>\n",
              "      <td>2008-01-02</td>\n",
              "      <td>52.090000</td>\n",
              "      <td>52.320000</td>\n",
              "      <td>50.790001</td>\n",
              "      <td>51.040001</td>\n",
              "      <td>40.173492</td>\n",
              "      <td>8053700</td>\n",
              "      <td>AXP</td>\n",
              "      <td>2</td>\n",
              "      <td>0.0</td>\n",
              "      <td>6.964725</td>\n",
              "      <td>6.955632</td>\n",
              "      <td>100.0</td>\n",
              "      <td>-66.666667</td>\n",
              "      <td>100.0</td>\n",
              "      <td>51.040001</td>\n",
              "      <td>51.040001</td>\n",
              "    </tr>\n",
              "    <tr>\n",
              "      <th>10449</th>\n",
              "      <td>2008-01-02</td>\n",
              "      <td>87.570000</td>\n",
              "      <td>87.839996</td>\n",
              "      <td>86.000000</td>\n",
              "      <td>86.620003</td>\n",
              "      <td>63.481606</td>\n",
              "      <td>4303000</td>\n",
              "      <td>BA</td>\n",
              "      <td>2</td>\n",
              "      <td>0.0</td>\n",
              "      <td>6.964725</td>\n",
              "      <td>6.955632</td>\n",
              "      <td>100.0</td>\n",
              "      <td>-66.666667</td>\n",
              "      <td>100.0</td>\n",
              "      <td>86.620003</td>\n",
              "      <td>86.620003</td>\n",
              "    </tr>\n",
              "    <tr>\n",
              "      <th>13932</th>\n",
              "      <td>2008-01-02</td>\n",
              "      <td>72.559998</td>\n",
              "      <td>72.669998</td>\n",
              "      <td>70.050003</td>\n",
              "      <td>70.629997</td>\n",
              "      <td>46.539078</td>\n",
              "      <td>6337800</td>\n",
              "      <td>CAT</td>\n",
              "      <td>2</td>\n",
              "      <td>0.0</td>\n",
              "      <td>6.964725</td>\n",
              "      <td>6.955632</td>\n",
              "      <td>100.0</td>\n",
              "      <td>-66.666667</td>\n",
              "      <td>100.0</td>\n",
              "      <td>70.629997</td>\n",
              "      <td>70.629997</td>\n",
              "    </tr>\n",
              "  </tbody>\n",
              "</table>\n",
              "</div>"
            ],
            "text/plain": [
              "             date       open       high        low      close      adjcp  \\\n",
              "0      2008-01-02   7.116786   7.152143   6.876786   6.958571   5.931610   \n",
              "3483   2008-01-02  46.599998  47.040001  46.259998  46.599998  34.931576   \n",
              "6966   2008-01-02  52.090000  52.320000  50.790001  51.040001  40.173492   \n",
              "10449  2008-01-02  87.570000  87.839996  86.000000  86.620003  63.481606   \n",
              "13932  2008-01-02  72.559998  72.669998  70.050003  70.629997  46.539078   \n",
              "\n",
              "           volume   tic  day  macd   boll_ub   boll_lb  rsi_30     cci_30  \\\n",
              "0      1079178800  AAPL    2   0.0  6.964725  6.955632   100.0 -66.666667   \n",
              "3483      7934400  AMGN    2   0.0  6.964725  6.955632   100.0 -66.666667   \n",
              "6966      8053700   AXP    2   0.0  6.964725  6.955632   100.0 -66.666667   \n",
              "10449     4303000    BA    2   0.0  6.964725  6.955632   100.0 -66.666667   \n",
              "13932     6337800   CAT    2   0.0  6.964725  6.955632   100.0 -66.666667   \n",
              "\n",
              "       dx_30  close_30_sma  close_60_sma  \n",
              "0      100.0      6.958571      6.958571  \n",
              "3483   100.0     46.599998     46.599998  \n",
              "6966   100.0     51.040001     51.040001  \n",
              "10449  100.0     86.620003     86.620003  \n",
              "13932  100.0     70.629997     70.629997  "
            ]
          },
          "execution_count": 8,
          "metadata": {},
          "output_type": "execute_result"
        }
      ],
      "source": [
        "df.head()"
      ]
    },
    {
      "cell_type": "markdown",
      "metadata": {
        "id": "qz9K2vul6RmK"
      },
      "source": [
        "## Add covariance matrix as states"
      ]
    },
    {
      "cell_type": "code",
      "execution_count": 13,
      "metadata": {},
      "outputs": [],
      "source": [
        "# add covariance matrix as states\n",
        "df=df.sort_values(['date','tic'],ignore_index=True)\n",
        "df.index = df.date.factorize()[0]\n",
        "\n",
        "cov_list = []\n",
        "return_list = []\n",
        "\n",
        "# look back is one year\n",
        "lookback=252\n",
        "for i in range(lookback,len(df.index.unique())):\n",
        "  data_lookback = df.loc[i-lookback:i,:]\n",
        "  price_lookback=data_lookback.pivot_table(index = 'date',columns = 'tic', values = 'close')\n",
        "  return_lookback = price_lookback.pct_change().dropna()\n",
        "  return_list.append(return_lookback)\n",
        "\n",
        "  covs = return_lookback.cov().values \n",
        "  cov_list.append(covs)\n",
        "\n",
        "  \n",
        "df_cov = pd.DataFrame({'date':df.date.unique()[lookback:],'cov_list':cov_list,'return_list':return_list})\n",
        "df = df.merge(df_cov, on='date')\n",
        "df = df.sort_values(['date','tic']).reset_index(drop=True)"
      ]
    },
    {
      "cell_type": "code",
      "execution_count": 14,
      "metadata": {
        "colab": {
          "base_uri": "https://localhost:8080/"
        },
        "id": "dUPwwa13uBQ-",
        "outputId": "2aa538ba-9935-4f69-b8c8-2cf3a3a55e42",
        "pycharm": {
          "is_executing": true
        }
      },
      "outputs": [
        {
          "data": {
            "text/plain": [
              "(90468, 19)"
            ]
          },
          "execution_count": 14,
          "metadata": {},
          "output_type": "execute_result"
        }
      ],
      "source": [
        "df.shape"
      ]
    },
    {
      "cell_type": "code",
      "execution_count": 15,
      "metadata": {
        "colab": {
          "base_uri": "https://localhost:8080/",
          "height": 444
        },
        "id": "wv3jR1zPrg4g",
        "outputId": "94cef7cc-830b-4c81-da8b-9efba5ad989a",
        "pycharm": {
          "is_executing": true
        }
      },
      "outputs": [
        {
          "data": {
            "text/html": [
              "<div>\n",
              "<style scoped>\n",
              "    .dataframe tbody tr th:only-of-type {\n",
              "        vertical-align: middle;\n",
              "    }\n",
              "\n",
              "    .dataframe tbody tr th {\n",
              "        vertical-align: top;\n",
              "    }\n",
              "\n",
              "    .dataframe thead th {\n",
              "        text-align: right;\n",
              "    }\n",
              "</style>\n",
              "<table border=\"1\" class=\"dataframe\">\n",
              "  <thead>\n",
              "    <tr style=\"text-align: right;\">\n",
              "      <th></th>\n",
              "      <th>date</th>\n",
              "      <th>open</th>\n",
              "      <th>high</th>\n",
              "      <th>low</th>\n",
              "      <th>close</th>\n",
              "      <th>adjcp</th>\n",
              "      <th>volume</th>\n",
              "      <th>tic</th>\n",
              "      <th>day</th>\n",
              "      <th>macd</th>\n",
              "      <th>boll_ub</th>\n",
              "      <th>boll_lb</th>\n",
              "      <th>rsi_30</th>\n",
              "      <th>cci_30</th>\n",
              "      <th>dx_30</th>\n",
              "      <th>close_30_sma</th>\n",
              "      <th>close_60_sma</th>\n",
              "      <th>cov_list</th>\n",
              "      <th>return_list</th>\n",
              "    </tr>\n",
              "  </thead>\n",
              "  <tbody>\n",
              "    <tr>\n",
              "      <th>0</th>\n",
              "      <td>2008-12-31</td>\n",
              "      <td>3.070357</td>\n",
              "      <td>3.133571</td>\n",
              "      <td>3.047857</td>\n",
              "      <td>3.048214</td>\n",
              "      <td>2.598353</td>\n",
              "      <td>607541200</td>\n",
              "      <td>AAPL</td>\n",
              "      <td>2</td>\n",
              "      <td>-0.097446</td>\n",
              "      <td>3.649552</td>\n",
              "      <td>2.895305</td>\n",
              "      <td>42.254771</td>\n",
              "      <td>-80.847207</td>\n",
              "      <td>16.129793</td>\n",
              "      <td>3.243631</td>\n",
              "      <td>3.375887</td>\n",
              "      <td>[[0.001348968986171653, 0.0004284126428082588,...</td>\n",
              "      <td>tic             AAPL      AMGN       AXP      ...</td>\n",
              "    </tr>\n",
              "    <tr>\n",
              "      <th>1</th>\n",
              "      <td>2008-12-31</td>\n",
              "      <td>57.110001</td>\n",
              "      <td>58.220001</td>\n",
              "      <td>57.060001</td>\n",
              "      <td>57.750000</td>\n",
              "      <td>43.289669</td>\n",
              "      <td>6287200</td>\n",
              "      <td>AMGN</td>\n",
              "      <td>2</td>\n",
              "      <td>0.216368</td>\n",
              "      <td>58.947401</td>\n",
              "      <td>56.388599</td>\n",
              "      <td>51.060614</td>\n",
              "      <td>51.895357</td>\n",
              "      <td>10.432018</td>\n",
              "      <td>56.671334</td>\n",
              "      <td>56.044333</td>\n",
              "      <td>[[0.001348968986171653, 0.0004284126428082588,...</td>\n",
              "      <td>tic             AAPL      AMGN       AXP      ...</td>\n",
              "    </tr>\n",
              "    <tr>\n",
              "      <th>2</th>\n",
              "      <td>2008-12-31</td>\n",
              "      <td>17.969999</td>\n",
              "      <td>18.750000</td>\n",
              "      <td>17.910000</td>\n",
              "      <td>18.549999</td>\n",
              "      <td>14.796399</td>\n",
              "      <td>9625600</td>\n",
              "      <td>AXP</td>\n",
              "      <td>2</td>\n",
              "      <td>-1.191668</td>\n",
              "      <td>23.723023</td>\n",
              "      <td>16.106977</td>\n",
              "      <td>42.521170</td>\n",
              "      <td>-74.811722</td>\n",
              "      <td>25.776759</td>\n",
              "      <td>20.030000</td>\n",
              "      <td>22.412000</td>\n",
              "      <td>[[0.001348968986171653, 0.0004284126428082588,...</td>\n",
              "      <td>tic             AAPL      AMGN       AXP      ...</td>\n",
              "    </tr>\n",
              "    <tr>\n",
              "      <th>3</th>\n",
              "      <td>2008-12-31</td>\n",
              "      <td>41.590000</td>\n",
              "      <td>43.049999</td>\n",
              "      <td>41.500000</td>\n",
              "      <td>42.669998</td>\n",
              "      <td>32.005898</td>\n",
              "      <td>5443100</td>\n",
              "      <td>BA</td>\n",
              "      <td>2</td>\n",
              "      <td>-0.391219</td>\n",
              "      <td>42.894634</td>\n",
              "      <td>38.486366</td>\n",
              "      <td>47.290375</td>\n",
              "      <td>157.922391</td>\n",
              "      <td>5.366299</td>\n",
              "      <td>40.432000</td>\n",
              "      <td>43.304500</td>\n",
              "      <td>[[0.001348968986171653, 0.0004284126428082588,...</td>\n",
              "      <td>tic             AAPL      AMGN       AXP      ...</td>\n",
              "    </tr>\n",
              "    <tr>\n",
              "      <th>4</th>\n",
              "      <td>2008-12-31</td>\n",
              "      <td>43.700001</td>\n",
              "      <td>45.099998</td>\n",
              "      <td>43.700001</td>\n",
              "      <td>44.669998</td>\n",
              "      <td>30.214798</td>\n",
              "      <td>6277400</td>\n",
              "      <td>CAT</td>\n",
              "      <td>2</td>\n",
              "      <td>0.979845</td>\n",
              "      <td>45.785565</td>\n",
              "      <td>38.404435</td>\n",
              "      <td>51.073052</td>\n",
              "      <td>98.904653</td>\n",
              "      <td>26.331746</td>\n",
              "      <td>40.266000</td>\n",
              "      <td>39.918333</td>\n",
              "      <td>[[0.001348968986171653, 0.0004284126428082588,...</td>\n",
              "      <td>tic             AAPL      AMGN       AXP      ...</td>\n",
              "    </tr>\n",
              "  </tbody>\n",
              "</table>\n",
              "</div>"
            ],
            "text/plain": [
              "         date       open       high        low      close      adjcp  \\\n",
              "0  2008-12-31   3.070357   3.133571   3.047857   3.048214   2.598353   \n",
              "1  2008-12-31  57.110001  58.220001  57.060001  57.750000  43.289669   \n",
              "2  2008-12-31  17.969999  18.750000  17.910000  18.549999  14.796399   \n",
              "3  2008-12-31  41.590000  43.049999  41.500000  42.669998  32.005898   \n",
              "4  2008-12-31  43.700001  45.099998  43.700001  44.669998  30.214798   \n",
              "\n",
              "      volume   tic  day      macd    boll_ub    boll_lb     rsi_30  \\\n",
              "0  607541200  AAPL    2 -0.097446   3.649552   2.895305  42.254771   \n",
              "1    6287200  AMGN    2  0.216368  58.947401  56.388599  51.060614   \n",
              "2    9625600   AXP    2 -1.191668  23.723023  16.106977  42.521170   \n",
              "3    5443100    BA    2 -0.391219  42.894634  38.486366  47.290375   \n",
              "4    6277400   CAT    2  0.979845  45.785565  38.404435  51.073052   \n",
              "\n",
              "       cci_30      dx_30  close_30_sma  close_60_sma  \\\n",
              "0  -80.847207  16.129793      3.243631      3.375887   \n",
              "1   51.895357  10.432018     56.671334     56.044333   \n",
              "2  -74.811722  25.776759     20.030000     22.412000   \n",
              "3  157.922391   5.366299     40.432000     43.304500   \n",
              "4   98.904653  26.331746     40.266000     39.918333   \n",
              "\n",
              "                                            cov_list  \\\n",
              "0  [[0.001348968986171653, 0.0004284126428082588,...   \n",
              "1  [[0.001348968986171653, 0.0004284126428082588,...   \n",
              "2  [[0.001348968986171653, 0.0004284126428082588,...   \n",
              "3  [[0.001348968986171653, 0.0004284126428082588,...   \n",
              "4  [[0.001348968986171653, 0.0004284126428082588,...   \n",
              "\n",
              "                                         return_list  \n",
              "0  tic             AAPL      AMGN       AXP      ...  \n",
              "1  tic             AAPL      AMGN       AXP      ...  \n",
              "2  tic             AAPL      AMGN       AXP      ...  \n",
              "3  tic             AAPL      AMGN       AXP      ...  \n",
              "4  tic             AAPL      AMGN       AXP      ...  "
            ]
          },
          "execution_count": 15,
          "metadata": {},
          "output_type": "execute_result"
        }
      ],
      "source": [
        "df.head()"
      ]
    },
    {
      "cell_type": "markdown",
      "metadata": {
        "id": "UooHj1OgbU4v"
      },
      "source": [
        "<a id='4'></a>\n",
        "# Part 5. Design Environment\n",
        "Considering the stochastic and interactive nature of the automated stock trading tasks, a financial task is modeled as a **Markov Decision Process (MDP)** problem. The training process involves observing stock price change, taking an action and reward's calculation to have the agent adjusting its strategy accordingly. By interacting with the environment, the trading agent will derive a trading strategy with the maximized rewards as time proceeds.\n",
        "\n",
        "Our trading environments, based on OpenAI Gym framework, simulate live stock markets with real market data according to the principle of time-driven simulation.\n"
      ]
    },
    {
      "cell_type": "markdown",
      "metadata": {
        "id": "MQnmN1qdk88I"
      },
      "source": [
        "## Training data split: 2009-01-01 to 2020-07-01"
      ]
    },
    {
      "cell_type": "code",
      "execution_count": 21,
      "metadata": {
        "id": "NrPxgv4eBQ_R",
        "pycharm": {
          "is_executing": true
        }
      },
      "outputs": [],
      "source": [
        "train = data_split(df, '2009-01-01','2020-07-01')\n",
        "trade = data_split(df, '2020-07-02','2021-10-31')"
      ]
    },
    {
      "cell_type": "code",
      "execution_count": 22,
      "metadata": {
        "colab": {
          "base_uri": "https://localhost:8080/",
          "height": 444
        },
        "id": "vU2vXEll0hfk",
        "outputId": "e8c76dfd-2c43-4f60-8eee-a1a4f564eed6",
        "pycharm": {
          "is_executing": true
        }
      },
      "outputs": [
        {
          "data": {
            "text/html": [
              "<div>\n",
              "<style scoped>\n",
              "    .dataframe tbody tr th:only-of-type {\n",
              "        vertical-align: middle;\n",
              "    }\n",
              "\n",
              "    .dataframe tbody tr th {\n",
              "        vertical-align: top;\n",
              "    }\n",
              "\n",
              "    .dataframe thead th {\n",
              "        text-align: right;\n",
              "    }\n",
              "</style>\n",
              "<table border=\"1\" class=\"dataframe\">\n",
              "  <thead>\n",
              "    <tr style=\"text-align: right;\">\n",
              "      <th></th>\n",
              "      <th>date</th>\n",
              "      <th>open</th>\n",
              "      <th>high</th>\n",
              "      <th>low</th>\n",
              "      <th>close</th>\n",
              "      <th>adjcp</th>\n",
              "      <th>volume</th>\n",
              "      <th>tic</th>\n",
              "      <th>day</th>\n",
              "      <th>macd</th>\n",
              "      <th>boll_ub</th>\n",
              "      <th>boll_lb</th>\n",
              "      <th>rsi_30</th>\n",
              "      <th>cci_30</th>\n",
              "      <th>dx_30</th>\n",
              "      <th>close_30_sma</th>\n",
              "      <th>close_60_sma</th>\n",
              "      <th>cov_list</th>\n",
              "      <th>return_list</th>\n",
              "    </tr>\n",
              "  </thead>\n",
              "  <tbody>\n",
              "    <tr>\n",
              "      <th>0</th>\n",
              "      <td>2009-01-02</td>\n",
              "      <td>3.067143</td>\n",
              "      <td>3.251429</td>\n",
              "      <td>3.041429</td>\n",
              "      <td>3.241071</td>\n",
              "      <td>2.762747</td>\n",
              "      <td>746015200</td>\n",
              "      <td>AAPL</td>\n",
              "      <td>4</td>\n",
              "      <td>-0.082758</td>\n",
              "      <td>3.633600</td>\n",
              "      <td>2.892864</td>\n",
              "      <td>45.440193</td>\n",
              "      <td>-30.508777</td>\n",
              "      <td>2.140064</td>\n",
              "      <td>3.244631</td>\n",
              "      <td>3.376833</td>\n",
              "      <td>[[0.0013661506624067614, 0.0004339381957255909...</td>\n",
              "      <td>tic             AAPL      AMGN       AXP      ...</td>\n",
              "    </tr>\n",
              "    <tr>\n",
              "      <th>0</th>\n",
              "      <td>2009-01-02</td>\n",
              "      <td>58.590000</td>\n",
              "      <td>59.080002</td>\n",
              "      <td>57.750000</td>\n",
              "      <td>58.990002</td>\n",
              "      <td>44.219185</td>\n",
              "      <td>6547900</td>\n",
              "      <td>AMGN</td>\n",
              "      <td>4</td>\n",
              "      <td>0.320448</td>\n",
              "      <td>59.148360</td>\n",
              "      <td>56.339640</td>\n",
              "      <td>52.756859</td>\n",
              "      <td>94.549630</td>\n",
              "      <td>0.814217</td>\n",
              "      <td>56.759667</td>\n",
              "      <td>56.166000</td>\n",
              "      <td>[[0.0013661506624067614, 0.0004339381957255909...</td>\n",
              "      <td>tic             AAPL      AMGN       AXP      ...</td>\n",
              "    </tr>\n",
              "    <tr>\n",
              "      <th>0</th>\n",
              "      <td>2009-01-02</td>\n",
              "      <td>18.570000</td>\n",
              "      <td>19.520000</td>\n",
              "      <td>18.400000</td>\n",
              "      <td>19.330000</td>\n",
              "      <td>15.418560</td>\n",
              "      <td>10955700</td>\n",
              "      <td>AXP</td>\n",
              "      <td>4</td>\n",
              "      <td>-1.059847</td>\n",
              "      <td>23.489423</td>\n",
              "      <td>16.086577</td>\n",
              "      <td>43.923322</td>\n",
              "      <td>-42.018825</td>\n",
              "      <td>16.335101</td>\n",
              "      <td>20.028333</td>\n",
              "      <td>22.263333</td>\n",
              "      <td>[[0.0013661506624067614, 0.0004339381957255909...</td>\n",
              "      <td>tic             AAPL      AMGN       AXP      ...</td>\n",
              "    </tr>\n",
              "    <tr>\n",
              "      <th>0</th>\n",
              "      <td>2009-01-02</td>\n",
              "      <td>42.799999</td>\n",
              "      <td>45.560001</td>\n",
              "      <td>42.779999</td>\n",
              "      <td>45.250000</td>\n",
              "      <td>33.941086</td>\n",
              "      <td>7010200</td>\n",
              "      <td>BA</td>\n",
              "      <td>4</td>\n",
              "      <td>-0.019566</td>\n",
              "      <td>43.926849</td>\n",
              "      <td>37.932151</td>\n",
              "      <td>50.664690</td>\n",
              "      <td>275.696308</td>\n",
              "      <td>20.494464</td>\n",
              "      <td>40.621667</td>\n",
              "      <td>43.237334</td>\n",
              "      <td>[[0.0013661506624067614, 0.0004339381957255909...</td>\n",
              "      <td>tic             AAPL      AMGN       AXP      ...</td>\n",
              "    </tr>\n",
              "    <tr>\n",
              "      <th>0</th>\n",
              "      <td>2009-01-02</td>\n",
              "      <td>44.910000</td>\n",
              "      <td>46.980000</td>\n",
              "      <td>44.709999</td>\n",
              "      <td>46.910000</td>\n",
              "      <td>31.729937</td>\n",
              "      <td>7117200</td>\n",
              "      <td>CAT</td>\n",
              "      <td>4</td>\n",
              "      <td>1.248426</td>\n",
              "      <td>46.543072</td>\n",
              "      <td>38.372928</td>\n",
              "      <td>53.534743</td>\n",
              "      <td>131.675975</td>\n",
              "      <td>34.637448</td>\n",
              "      <td>40.623333</td>\n",
              "      <td>39.911333</td>\n",
              "      <td>[[0.0013661506624067614, 0.0004339381957255909...</td>\n",
              "      <td>tic             AAPL      AMGN       AXP      ...</td>\n",
              "    </tr>\n",
              "  </tbody>\n",
              "</table>\n",
              "</div>"
            ],
            "text/plain": [
              "         date       open       high        low      close      adjcp  \\\n",
              "0  2009-01-02   3.067143   3.251429   3.041429   3.241071   2.762747   \n",
              "0  2009-01-02  58.590000  59.080002  57.750000  58.990002  44.219185   \n",
              "0  2009-01-02  18.570000  19.520000  18.400000  19.330000  15.418560   \n",
              "0  2009-01-02  42.799999  45.560001  42.779999  45.250000  33.941086   \n",
              "0  2009-01-02  44.910000  46.980000  44.709999  46.910000  31.729937   \n",
              "\n",
              "      volume   tic  day      macd    boll_ub    boll_lb     rsi_30  \\\n",
              "0  746015200  AAPL    4 -0.082758   3.633600   2.892864  45.440193   \n",
              "0    6547900  AMGN    4  0.320448  59.148360  56.339640  52.756859   \n",
              "0   10955700   AXP    4 -1.059847  23.489423  16.086577  43.923322   \n",
              "0    7010200    BA    4 -0.019566  43.926849  37.932151  50.664690   \n",
              "0    7117200   CAT    4  1.248426  46.543072  38.372928  53.534743   \n",
              "\n",
              "       cci_30      dx_30  close_30_sma  close_60_sma  \\\n",
              "0  -30.508777   2.140064      3.244631      3.376833   \n",
              "0   94.549630   0.814217     56.759667     56.166000   \n",
              "0  -42.018825  16.335101     20.028333     22.263333   \n",
              "0  275.696308  20.494464     40.621667     43.237334   \n",
              "0  131.675975  34.637448     40.623333     39.911333   \n",
              "\n",
              "                                            cov_list  \\\n",
              "0  [[0.0013661506624067614, 0.0004339381957255909...   \n",
              "0  [[0.0013661506624067614, 0.0004339381957255909...   \n",
              "0  [[0.0013661506624067614, 0.0004339381957255909...   \n",
              "0  [[0.0013661506624067614, 0.0004339381957255909...   \n",
              "0  [[0.0013661506624067614, 0.0004339381957255909...   \n",
              "\n",
              "                                         return_list  \n",
              "0  tic             AAPL      AMGN       AXP      ...  \n",
              "0  tic             AAPL      AMGN       AXP      ...  \n",
              "0  tic             AAPL      AMGN       AXP      ...  \n",
              "0  tic             AAPL      AMGN       AXP      ...  \n",
              "0  tic             AAPL      AMGN       AXP      ...  "
            ]
          },
          "execution_count": 22,
          "metadata": {},
          "output_type": "execute_result"
        }
      ],
      "source": [
        "train.head()"
      ]
    },
    {
      "cell_type": "markdown",
      "metadata": {
        "id": "te3Ibcj5hUbz"
      },
      "source": [
        "## Min-Variance Portfolio Allocation"
      ]
    },
    {
      "cell_type": "code",
      "execution_count": 23,
      "metadata": {
        "id": "i0NiefM7hHn0",
        "pycharm": {
          "is_executing": true
        }
      },
      "outputs": [],
      "source": [
        "from pypfopt.efficient_frontier import EfficientFrontier\n",
        "from pypfopt import risk_models"
      ]
    },
    {
      "cell_type": "code",
      "execution_count": 24,
      "metadata": {
        "id": "lDYDIBH9hcUP",
        "pycharm": {
          "is_executing": true
        }
      },
      "outputs": [],
      "source": [
        "unique_tic = trade.tic.unique()\n",
        "unique_trade_date = trade.date.unique()"
      ]
    },
    {
      "cell_type": "code",
      "execution_count": null,
      "metadata": {
        "id": "8qvk_pJ4iV32",
        "outputId": "1f6add8b-9e6d-412c-e57d-0c18b1bca37d",
        "pycharm": {
          "is_executing": true
        }
      },
      "outputs": [
        {
          "data": {
            "text/html": [
              "<div>\n",
              "<style scoped>\n",
              "    .dataframe tbody tr th:only-of-type {\n",
              "        vertical-align: middle;\n",
              "    }\n",
              "\n",
              "    .dataframe tbody tr th {\n",
              "        vertical-align: top;\n",
              "    }\n",
              "\n",
              "    .dataframe thead th {\n",
              "        text-align: right;\n",
              "    }\n",
              "</style>\n",
              "<table border=\"1\" class=\"dataframe\">\n",
              "  <thead>\n",
              "    <tr style=\"text-align: right;\">\n",
              "      <th></th>\n",
              "      <th>date</th>\n",
              "      <th>open</th>\n",
              "      <th>high</th>\n",
              "      <th>low</th>\n",
              "      <th>close</th>\n",
              "      <th>adjcp</th>\n",
              "      <th>volume</th>\n",
              "      <th>tic</th>\n",
              "      <th>day</th>\n",
              "      <th>macd</th>\n",
              "      <th>boll_ub</th>\n",
              "      <th>boll_lb</th>\n",
              "      <th>rsi_30</th>\n",
              "      <th>cci_30</th>\n",
              "      <th>dx_30</th>\n",
              "      <th>close_30_sma</th>\n",
              "      <th>close_60_sma</th>\n",
              "      <th>cov_list</th>\n",
              "      <th>return_list</th>\n",
              "    </tr>\n",
              "  </thead>\n",
              "  <tbody>\n",
              "    <tr>\n",
              "      <th>0</th>\n",
              "      <td>2008-12-30</td>\n",
              "      <td>3.122143</td>\n",
              "      <td>3.144643</td>\n",
              "      <td>3.025714</td>\n",
              "      <td>3.081786</td>\n",
              "      <td>2.638855</td>\n",
              "      <td>967601600</td>\n",
              "      <td>AAPL</td>\n",
              "      <td>1</td>\n",
              "      <td>-0.095139</td>\n",
              "      <td>3.647287</td>\n",
              "      <td>2.922999</td>\n",
              "      <td>42.673739</td>\n",
              "      <td>-80.272843</td>\n",
              "      <td>16.129793</td>\n",
              "      <td>3.246952</td>\n",
              "      <td>3.383500</td>\n",
              "      <td>[[0.001349448862375765, 0.00042834220439268546...</td>\n",
              "      <td>tic             AAPL      AMGN       AXP      ...</td>\n",
              "    </tr>\n",
              "    <tr>\n",
              "      <th>1</th>\n",
              "      <td>2008-12-30</td>\n",
              "      <td>57.000000</td>\n",
              "      <td>57.660000</td>\n",
              "      <td>56.820000</td>\n",
              "      <td>57.590000</td>\n",
              "      <td>44.154682</td>\n",
              "      <td>4300800</td>\n",
              "      <td>AMGN</td>\n",
              "      <td>1</td>\n",
              "      <td>0.206630</td>\n",
              "      <td>59.373659</td>\n",
              "      <td>55.651341</td>\n",
              "      <td>50.840501</td>\n",
              "      <td>37.623751</td>\n",
              "      <td>17.245628</td>\n",
              "      <td>56.616000</td>\n",
              "      <td>55.998167</td>\n",
              "      <td>[[0.001349448862375765, 0.00042834220439268546...</td>\n",
              "      <td>tic             AAPL      AMGN       AXP      ...</td>\n",
              "    </tr>\n",
              "    <tr>\n",
              "      <th>2</th>\n",
              "      <td>2008-12-30</td>\n",
              "      <td>17.820000</td>\n",
              "      <td>18.129999</td>\n",
              "      <td>17.700001</td>\n",
              "      <td>18.000000</td>\n",
              "      <td>14.507502</td>\n",
              "      <td>11777300</td>\n",
              "      <td>AXP</td>\n",
              "      <td>1</td>\n",
              "      <td>-1.263168</td>\n",
              "      <td>23.794809</td>\n",
              "      <td>16.256191</td>\n",
              "      <td>41.524298</td>\n",
              "      <td>-101.263980</td>\n",
              "      <td>33.966523</td>\n",
              "      <td>20.057333</td>\n",
              "      <td>22.604000</td>\n",
              "      <td>[[0.001349448862375765, 0.00042834220439268546...</td>\n",
              "      <td>tic             AAPL      AMGN       AXP      ...</td>\n",
              "    </tr>\n",
              "    <tr>\n",
              "      <th>3</th>\n",
              "      <td>2008-12-30</td>\n",
              "      <td>40.080002</td>\n",
              "      <td>41.340000</td>\n",
              "      <td>39.810001</td>\n",
              "      <td>41.250000</td>\n",
              "      <td>30.940779</td>\n",
              "      <td>4549700</td>\n",
              "      <td>BA</td>\n",
              "      <td>1</td>\n",
              "      <td>-0.597202</td>\n",
              "      <td>42.590111</td>\n",
              "      <td>38.593890</td>\n",
              "      <td>45.299685</td>\n",
              "      <td>38.696627</td>\n",
              "      <td>7.693500</td>\n",
              "      <td>40.382334</td>\n",
              "      <td>43.448167</td>\n",
              "      <td>[[0.001349448862375765, 0.00042834220439268546...</td>\n",
              "      <td>tic             AAPL      AMGN       AXP      ...</td>\n",
              "    </tr>\n",
              "    <tr>\n",
              "      <th>4</th>\n",
              "      <td>2008-12-30</td>\n",
              "      <td>42.570000</td>\n",
              "      <td>43.750000</td>\n",
              "      <td>42.009998</td>\n",
              "      <td>43.660000</td>\n",
              "      <td>30.079866</td>\n",
              "      <td>5060400</td>\n",
              "      <td>CAT</td>\n",
              "      <td>1</td>\n",
              "      <td>0.850860</td>\n",
              "      <td>45.671279</td>\n",
              "      <td>37.851721</td>\n",
              "      <td>49.916105</td>\n",
              "      <td>73.697581</td>\n",
              "      <td>19.456481</td>\n",
              "      <td>39.967000</td>\n",
              "      <td>39.993833</td>\n",
              "      <td>[[0.001349448862375765, 0.00042834220439268546...</td>\n",
              "      <td>tic             AAPL      AMGN       AXP      ...</td>\n",
              "    </tr>\n",
              "  </tbody>\n",
              "</table>\n",
              "</div>"
            ],
            "text/plain": [
              "         date       open       high        low      close      adjcp  \\\n",
              "0  2008-12-30   3.122143   3.144643   3.025714   3.081786   2.638855   \n",
              "1  2008-12-30  57.000000  57.660000  56.820000  57.590000  44.154682   \n",
              "2  2008-12-30  17.820000  18.129999  17.700001  18.000000  14.507502   \n",
              "3  2008-12-30  40.080002  41.340000  39.810001  41.250000  30.940779   \n",
              "4  2008-12-30  42.570000  43.750000  42.009998  43.660000  30.079866   \n",
              "\n",
              "      volume   tic  day      macd    boll_ub    boll_lb     rsi_30  \\\n",
              "0  967601600  AAPL    1 -0.095139   3.647287   2.922999  42.673739   \n",
              "1    4300800  AMGN    1  0.206630  59.373659  55.651341  50.840501   \n",
              "2   11777300   AXP    1 -1.263168  23.794809  16.256191  41.524298   \n",
              "3    4549700    BA    1 -0.597202  42.590111  38.593890  45.299685   \n",
              "4    5060400   CAT    1  0.850860  45.671279  37.851721  49.916105   \n",
              "\n",
              "       cci_30      dx_30  close_30_sma  close_60_sma  \\\n",
              "0  -80.272843  16.129793      3.246952      3.383500   \n",
              "1   37.623751  17.245628     56.616000     55.998167   \n",
              "2 -101.263980  33.966523     20.057333     22.604000   \n",
              "3   38.696627   7.693500     40.382334     43.448167   \n",
              "4   73.697581  19.456481     39.967000     39.993833   \n",
              "\n",
              "                                            cov_list  \\\n",
              "0  [[0.001349448862375765, 0.00042834220439268546...   \n",
              "1  [[0.001349448862375765, 0.00042834220439268546...   \n",
              "2  [[0.001349448862375765, 0.00042834220439268546...   \n",
              "3  [[0.001349448862375765, 0.00042834220439268546...   \n",
              "4  [[0.001349448862375765, 0.00042834220439268546...   \n",
              "\n",
              "                                         return_list  \n",
              "0  tic             AAPL      AMGN       AXP      ...  \n",
              "1  tic             AAPL      AMGN       AXP      ...  \n",
              "2  tic             AAPL      AMGN       AXP      ...  \n",
              "3  tic             AAPL      AMGN       AXP      ...  \n",
              "4  tic             AAPL      AMGN       AXP      ...  "
            ]
          },
          "execution_count": 61,
          "metadata": {},
          "output_type": "execute_result"
        }
      ],
      "source": [
        "df.head()"
      ]
    },
    {
      "cell_type": "code",
      "execution_count": 49,
      "metadata": {
        "id": "EICNukJZgnWl",
        "pycharm": {
          "is_executing": true
        }
      },
      "outputs": [],
      "source": [
        "#calculate_portfolio_minimum_variance\n",
        "portfolio = pd.DataFrame(index = range(1), columns = unique_trade_date)\n",
        "initial_capital = 1000000\n",
        "portfolio.loc[0,unique_trade_date[0]] = initial_capital\n",
        "\n",
        "for i in range(len( unique_trade_date)-1):\n",
        "    df_temp = df[df.date==unique_trade_date[i]].reset_index(drop=True)\n",
        "    df_temp_next = df[df.date==unique_trade_date[i+1]].reset_index(drop=True)\n",
        "    #Sigma = risk_models.sample_cov(df_temp.return_list[0])\n",
        "    #calculate covariance matrix\n",
        "    Sigma = df_temp.return_list[0].cov()\n",
        "    #portfolio allocation\n",
        "    ef_min_var = EfficientFrontier(None, Sigma,weight_bounds=(0, 0.1))\n",
        "    #minimum variance\n",
        "    raw_weights_min_var = ef_min_var.min_volatility()\n",
        "    #get weights\n",
        "    cleaned_weights_min_var = ef_min_var.clean_weights()\n",
        "    \n",
        "    #current capital\n",
        "    cap = portfolio.iloc[0, i]\n",
        "    #current cash invested for each stock\n",
        "    current_cash = [element * cap for element in list(cleaned_weights_min_var.values())]\n",
        "    # current held shares\n",
        "    current_shares = list(np.array(current_cash)\n",
        "                                      / np.array(df_temp.close))\n",
        "    # next time period price\n",
        "    next_price = np.array(df_temp_next.close)\n",
        "    ##next_price * current share to calculate next total account value \n",
        "    portfolio.iloc[0, i+1] = np.dot(current_shares, next_price)\n",
        "    \n",
        "portfolio=portfolio.T\n",
        "portfolio.columns = ['account_value']"
      ]
    },
    {
      "cell_type": "code",
      "execution_count": 66,
      "metadata": {},
      "outputs": [],
      "source": [
        "min_var_cumpod =(portfolio.account_value.pct_change()+1).cumprod()-1"
      ]
    }
  ],
  "metadata": {
    "colab": {
      "collapsed_sections": [
        "lvrqTro3lhAh",
        "a3Iuv554xYFH",
        "SPEXBcm-uBJo",
        "iidB5E27dfzh"
      ],
      "name": "FinRL_PortfolioAllocation_NeurIPS_2020.ipynb",
      "provenance": []
    },
    "kernelspec": {
      "display_name": "Python 3.7.13 ('finrl')",
      "language": "python",
      "name": "python3"
    },
    "language_info": {
      "codemirror_mode": {
        "name": "ipython",
        "version": 3
      },
      "file_extension": ".py",
      "mimetype": "text/x-python",
      "name": "python",
      "nbconvert_exporter": "python",
      "pygments_lexer": "ipython3",
      "version": "3.7.13"
    },
    "vscode": {
      "interpreter": {
        "hash": "cd2b0f798c67569e4320ed269f213a7ad262f62ee8ffe59f2567b9e481ae2d9a"
      }
    }
  },
  "nbformat": 4,
  "nbformat_minor": 0
}
