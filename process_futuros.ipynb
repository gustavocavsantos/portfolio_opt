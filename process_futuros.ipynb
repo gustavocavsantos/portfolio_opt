{
 "cells": [
  {
   "cell_type": "code",
   "execution_count": 100,
   "id": "9e9c0880",
   "metadata": {},
   "outputs": [],
   "source": [
    "import pandas as pd\n",
    "import numpy as np"
   ]
  },
  {
   "cell_type": "code",
   "execution_count": 103,
   "id": "c5c857d8",
   "metadata": {},
   "outputs": [],
   "source": [
    "def process_future_data(path):\n",
    "    df = pd.read_csv('path').dropna()\n",
    "\n",
    "    df = df[::-1]\n",
    "    df.columns = ['tic', 'date', 'open', 'high', 'low', 'close', 'Change', '%Chg','volume', 'Open Int']\n",
    "    df['date'] = pd.to_datetime(df['date'])\n",
    "    df['day']  = df['date'].dt.dayofweek\n",
    "    df['tic']  = df['tic'].loc[0][:2]\n",
    "    df = df.drop(['Change','%Chg','Open Int'],axis=1)\n",
    "    df['adjcp'] = df['close']\n",
    "    df = df[['date', 'open', 'high', 'low', 'close', 'adjcp', 'volume', 'tic','day']]\n",
    "    df.reset_index(inplace=True,drop= True)\n",
    "    \n",
    "    return path"
   ]
  },
  {
   "cell_type": "code",
   "execution_count": null,
   "id": "21a69545",
   "metadata": {},
   "outputs": [],
   "source": []
  }
 ],
 "metadata": {
  "kernelspec": {
   "display_name": "Python 3 (ipykernel)",
   "language": "python",
   "name": "python3"
  },
  "language_info": {
   "codemirror_mode": {
    "name": "ipython",
    "version": 3
   },
   "file_extension": ".py",
   "mimetype": "text/x-python",
   "name": "python",
   "nbconvert_exporter": "python",
   "pygments_lexer": "ipython3",
   "version": "3.7.13"
  }
 },
 "nbformat": 4,
 "nbformat_minor": 5
}
